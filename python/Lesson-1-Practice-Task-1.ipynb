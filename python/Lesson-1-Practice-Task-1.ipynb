{
 "cells": [
  {
   "cell_type": "markdown",
   "metadata": {},
   "source": [
    "## 从24点游戏的解法，开始Python编程"
   ]
  },
  {
   "cell_type": "markdown",
   "metadata": {},
   "source": [
    "> The 24 Game is an arithmetical card game in which the objective is to find a way to manipulate four integers so that the end result is 24. For example, for the card with the numbers 4, 7, 8, 8, a possible solution is {\\displaystyle (7-(8\\div 8))\\times 4=24}.\n",
    "\n",
    "> The game has been played in Shanghai since the 1960s, using playing cards. It has been known by other names, including Maths24, but these products are not associated with the copyrighted versions of the 24® Game."
   ]
  },
  {
   "cell_type": "markdown",
   "metadata": {},
   "source": [
    "![](imgs/24pint.jpg)"
   ]
  },
  {
   "cell_type": "markdown",
   "metadata": {},
   "source": [
    "## 解决方法1"
   ]
  },
  {
   "cell_type": "code",
   "execution_count": 1,
   "metadata": {},
   "outputs": [],
   "source": [
    "car1 = 9\n",
    "car2 = 10\n",
    "car3 = 11\n",
    "car4 = 6"
   ]
  },
  {
   "cell_type": "code",
   "execution_count": 2,
   "metadata": {},
   "outputs": [],
   "source": [
    "result = car1 + car2 + car3 - car4 "
   ]
  },
  {
   "cell_type": "code",
   "execution_count": 3,
   "metadata": {},
   "outputs": [
    {
     "name": "stdout",
     "output_type": "stream",
     "text": [
      "24\n"
     ]
    }
   ],
   "source": [
    "print(result)"
   ]
  },
  {
   "cell_type": "markdown",
   "metadata": {},
   "source": [
    "## Wow You Got it!"
   ]
  },
  {
   "cell_type": "code",
   "execution_count": 4,
   "metadata": {},
   "outputs": [],
   "source": [
    "car1 = 3\n",
    "car2 = 5\n",
    "car3 = 6\n",
    "car4 = 7"
   ]
  },
  {
   "cell_type": "code",
   "execution_count": 5,
   "metadata": {},
   "outputs": [
    {
     "data": {
      "text/plain": [
       "24"
      ]
     },
     "execution_count": 5,
     "metadata": {},
     "output_type": "execute_result"
    }
   ],
   "source": [
    "car1 * (car3 - car2 + car4)"
   ]
  },
  {
   "cell_type": "markdown",
   "metadata": {},
   "source": [
    "## Wow You Got it!"
   ]
  },
  {
   "cell_type": "markdown",
   "metadata": {},
   "source": [
    "## 当时刚刚的解法，其实是我们的大脑自己解决的"
   ]
  },
  {
   "cell_type": "markdown",
   "metadata": {},
   "source": [
    "## 如果让计算机自己解决呢？"
   ]
  },
  {
   "cell_type": "markdown",
   "metadata": {},
   "source": [
    "## 解决方法2"
   ]
  },
  {
   "cell_type": "code",
   "execution_count": 6,
   "metadata": {},
   "outputs": [],
   "source": [
    "import random"
   ]
  },
  {
   "cell_type": "code",
   "execution_count": 7,
   "metadata": {},
   "outputs": [
    {
     "data": {
      "text/plain": [
       "3"
      ]
     },
     "execution_count": 7,
     "metadata": {},
     "output_type": "execute_result"
    }
   ],
   "source": [
    "random.randint(1, 10)"
   ]
  },
  {
   "cell_type": "code",
   "execution_count": 8,
   "metadata": {},
   "outputs": [
    {
     "data": {
      "text/plain": [
       "-8"
      ]
     },
     "execution_count": 8,
     "metadata": {},
     "output_type": "execute_result"
    }
   ],
   "source": [
    "random.randint(-10, 0)"
   ]
  },
  {
   "cell_type": "code",
   "execution_count": 9,
   "metadata": {},
   "outputs": [],
   "source": [
    "operator1 = '+'\n",
    "operator2 = '-'\n",
    "opeartor3 = '*'\n",
    "operator4 = '/'"
   ]
  },
  {
   "cell_type": "markdown",
   "metadata": {},
   "source": [
    "## 这些操作符都是类似的，我们把它放在同一个“变量”里边"
   ]
  },
  {
   "cell_type": "code",
   "execution_count": 10,
   "metadata": {},
   "outputs": [],
   "source": [
    "operators = ['+', '-', '*', '/']"
   ]
  },
  {
   "cell_type": "code",
   "execution_count": 11,
   "metadata": {},
   "outputs": [],
   "source": [
    "def op(number1, number2, operator):\n",
    "    if operator == '+': return number1 + number2\n",
    "    elif operator == '-': return number1 - number2\n",
    "    elif operator == '*': return number1 * number2\n",
    "    elif operator == '/': return number1 / number2\n",
    "    else:\n",
    "        raise TypeError('该操作不支持')"
   ]
  },
  {
   "cell_type": "code",
   "execution_count": 12,
   "metadata": {},
   "outputs": [
    {
     "data": {
      "text/plain": [
       "2"
      ]
     },
     "execution_count": 12,
     "metadata": {},
     "output_type": "execute_result"
    }
   ],
   "source": [
    "op(1, 2, '*')"
   ]
  },
  {
   "cell_type": "code",
   "execution_count": 13,
   "metadata": {},
   "outputs": [
    {
     "data": {
      "text/plain": [
       "'15'"
      ]
     },
     "execution_count": 13,
     "metadata": {},
     "output_type": "execute_result"
    }
   ],
   "source": [
    "op('1', '5', '+')"
   ]
  },
  {
   "cell_type": "markdown",
   "metadata": {},
   "source": [
    "## 这牵扯到一个叫做数据类型的东西"
   ]
  },
  {
   "cell_type": "markdown",
   "metadata": {},
   "source": [
    "~ 同样一句话，一个命令，给不同的人说，是不是反馈不一样？为什么，因为他们的类型不一样"
   ]
  },
  {
   "cell_type": "code",
   "execution_count": 14,
   "metadata": {},
   "outputs": [
    {
     "data": {
      "text/plain": [
       "'-'"
      ]
     },
     "execution_count": 14,
     "metadata": {},
     "output_type": "execute_result"
    }
   ],
   "source": [
    "random.choice(operators)"
   ]
  },
  {
   "cell_type": "code",
   "execution_count": 15,
   "metadata": {},
   "outputs": [
    {
     "data": {
      "text/plain": [
       "\u001b[1;31mSignature:\u001b[0m \u001b[0mrandom\u001b[0m\u001b[1;33m.\u001b[0m\u001b[0mchoice\u001b[0m\u001b[1;33m(\u001b[0m\u001b[0mseq\u001b[0m\u001b[1;33m)\u001b[0m\u001b[1;33m\u001b[0m\u001b[1;33m\u001b[0m\u001b[0m\n",
       "\u001b[1;31mSource:\u001b[0m   \n",
       "    \u001b[1;32mdef\u001b[0m \u001b[0mchoice\u001b[0m\u001b[1;33m(\u001b[0m\u001b[0mself\u001b[0m\u001b[1;33m,\u001b[0m \u001b[0mseq\u001b[0m\u001b[1;33m)\u001b[0m\u001b[1;33m:\u001b[0m\u001b[1;33m\n",
       "\u001b[0m        \u001b[1;34m\"\"\"Choose a random element from a non-empty sequence.\"\"\"\u001b[0m\u001b[1;33m\n",
       "\u001b[0m        \u001b[1;32mtry\u001b[0m\u001b[1;33m:\u001b[0m\u001b[1;33m\n",
       "\u001b[0m            \u001b[0mi\u001b[0m \u001b[1;33m=\u001b[0m \u001b[0mself\u001b[0m\u001b[1;33m.\u001b[0m\u001b[0m_randbelow\u001b[0m\u001b[1;33m(\u001b[0m\u001b[0mlen\u001b[0m\u001b[1;33m(\u001b[0m\u001b[0mseq\u001b[0m\u001b[1;33m)\u001b[0m\u001b[1;33m)\u001b[0m\u001b[1;33m\n",
       "\u001b[0m        \u001b[1;32mexcept\u001b[0m \u001b[0mValueError\u001b[0m\u001b[1;33m:\u001b[0m\u001b[1;33m\n",
       "\u001b[0m            \u001b[1;32mraise\u001b[0m \u001b[0mIndexError\u001b[0m\u001b[1;33m(\u001b[0m\u001b[1;34m'Cannot choose from an empty sequence'\u001b[0m\u001b[1;33m)\u001b[0m \u001b[1;32mfrom\u001b[0m \u001b[1;32mNone\u001b[0m\u001b[1;33m\n",
       "\u001b[0m        \u001b[1;32mreturn\u001b[0m \u001b[0mseq\u001b[0m\u001b[1;33m[\u001b[0m\u001b[0mi\u001b[0m\u001b[1;33m]\u001b[0m\u001b[1;33m\u001b[0m\u001b[1;33m\u001b[0m\u001b[0m\n",
       "\u001b[1;31mFile:\u001b[0m      c:\\users\\geesi\\anaconda3\\envs\\nlp\\lib\\random.py\n",
       "\u001b[1;31mType:\u001b[0m      method\n"
      ]
     },
     "metadata": {},
     "output_type": "display_data"
    }
   ],
   "source": [
    "??random.choice"
   ]
  },
  {
   "cell_type": "code",
   "execution_count": 16,
   "metadata": {},
   "outputs": [],
   "source": [
    "car1 = 9\n",
    "car2 = 10\n",
    "car3 = 11\n",
    "car4 = 6"
   ]
  },
  {
   "cell_type": "code",
   "execution_count": 17,
   "metadata": {},
   "outputs": [],
   "source": [
    "def random_op(): \n",
    "    \"\"\"gives a random operator\"\"\"\n",
    "    return random.choice(operators)"
   ]
  },
  {
   "cell_type": "code",
   "execution_count": 18,
   "metadata": {},
   "outputs": [
    {
     "name": "stdout",
     "output_type": "stream",
     "text": [
      "-1\n"
     ]
    }
   ],
   "source": [
    "result_of_first_two_cards = op(car1, car2, random_op())\n",
    "print(result_of_first_two_cards)"
   ]
  },
  {
   "cell_type": "code",
   "execution_count": 19,
   "metadata": {},
   "outputs": [
    {
     "name": "stdout",
     "output_type": "stream",
     "text": [
      "-11\n"
     ]
    }
   ],
   "source": [
    "result_of_first_three_cards = op(result_of_first_two_cards, car3, random_op())\n",
    "print(result_of_first_three_cards)"
   ]
  },
  {
   "cell_type": "code",
   "execution_count": 20,
   "metadata": {},
   "outputs": [
    {
     "name": "stdout",
     "output_type": "stream",
     "text": [
      "-5\n"
     ]
    }
   ],
   "source": [
    "result_of_total = op(result_of_first_three_cards, car4, random_op())\n",
    "print(result_of_total)"
   ]
  },
  {
   "cell_type": "code",
   "execution_count": 21,
   "metadata": {},
   "outputs": [
    {
     "name": "stdout",
     "output_type": "stream",
     "text": [
      "606\n"
     ]
    }
   ],
   "source": [
    "result_of_first_two_cards = op(car1, car2, random_op())\n",
    "#print(result_of_first_two_cards)\n",
    "result_of_first_three_cards = op(result_of_first_two_cards, car3, random_op())\n",
    "#print(result_of_first_three_cards)\n",
    "result_of_total = op(result_of_first_three_cards, car4, random_op())\n",
    "print(result_of_total)"
   ]
  },
  {
   "cell_type": "code",
   "execution_count": 22,
   "metadata": {},
   "outputs": [
    {
     "name": "stdout",
     "output_type": "stream",
     "text": [
      "-5.918181818181818\n"
     ]
    }
   ],
   "source": [
    "op1 = random_op()\n",
    "result_of_first_two_cards = op(car1, car2, op1)\n",
    "#print(result_of_first_two_cards)\n",
    "\n",
    "op2 = random_op()\n",
    "result_of_first_three_cards = op(result_of_first_two_cards, car3, op2)\n",
    "#print(result_of_first_three_cards)\n",
    "\n",
    "op3 = random_op()\n",
    "result_of_total = op(result_of_first_three_cards, car4, op3)\n",
    "print(result_of_total)\n",
    "\n",
    "if result_of_total == 24: \n",
    "    print('😁我找到方法了')\n",
    "    print(op1, op2, op3)"
   ]
  },
  {
   "cell_type": "code",
   "execution_count": 23,
   "metadata": {},
   "outputs": [
    {
     "data": {
      "text/plain": [
       "(9, 10, 11, 6)"
      ]
     },
     "execution_count": 23,
     "metadata": {},
     "output_type": "execute_result"
    }
   ],
   "source": [
    "car1, car2, car3, car4"
   ]
  },
  {
   "cell_type": "code",
   "execution_count": 24,
   "metadata": {},
   "outputs": [],
   "source": [
    "for i in range(20):\n",
    "    op1 = random_op()\n",
    "    result_of_first_two_cards = op(car1, car2, op1)\n",
    "    #print(result_of_first_two_cards)\n",
    "\n",
    "    op2 = random_op()\n",
    "    result_of_first_three_cards = op(result_of_first_two_cards, car3, op2)\n",
    "    #print(result_of_first_three_cards)\n",
    "\n",
    "    op3 = random_op()\n",
    "    result_of_total = op(result_of_first_three_cards, car4, op3)\n",
    "   # print(result_of_total)\n",
    "\n",
    "    if result_of_total == 24: \n",
    "        print('😁我找到方法了')\n",
    "        print(op1, op2, op3)"
   ]
  },
  {
   "cell_type": "markdown",
   "metadata": {},
   "source": [
    "## 思考：每个位置有4种组合，一共有 4 * 4 * 4 = 64中组合，那么，随机找到的概率大约是1/64 约等于0.015"
   ]
  },
  {
   "cell_type": "code",
   "execution_count": 25,
   "metadata": {},
   "outputs": [
    {
     "name": "stdout",
     "output_type": "stream",
     "text": [
      "0\n",
      "the ratio of success is:\n",
      "0.0\n"
     ]
    }
   ],
   "source": [
    "result_found_num= 0\n",
    "\n",
    "total_tests = 64\n",
    "\n",
    "for i in range(total_tests):\n",
    "    op1 = random_op()\n",
    "    result_of_first_two_cards = op(car1, car2, op1)\n",
    "    #print(result_of_first_two_cards)\n",
    "\n",
    "    op2 = random_op()\n",
    "    result_of_first_three_cards = op(result_of_first_two_cards, car3, op2)\n",
    "    #print(result_of_first_three_cards)\n",
    "\n",
    "    op3 = random_op()\n",
    "    result_of_total = op(result_of_first_three_cards, car4, op3)\n",
    "   # print(result_of_total)\n",
    "\n",
    "    if result_of_total == 24: \n",
    "       # print('😁我找到方法了')\n",
    "        #print(op1, op2, op3)\n",
    "        result_found_num += 1\n",
    "    \n",
    "\n",
    "print(result_found_num)\n",
    "print('the ratio of success is:')\n",
    "print(result_found_num / total_tests)"
   ]
  },
  {
   "cell_type": "markdown",
   "metadata": {},
   "source": [
    "## String format"
   ]
  },
  {
   "cell_type": "code",
   "execution_count": 26,
   "metadata": {},
   "outputs": [
    {
     "name": "stdout",
     "output_type": "stream",
     "text": [
      "😁我找到方法了, 答案是 9+10+11-6\n",
      "1\n",
      "the ratio of success is:0.015625\n"
     ]
    }
   ],
   "source": [
    "result_found_num= 0\n",
    "\n",
    "total_tests = 64\n",
    "\n",
    "right_op1, right_op2, right_op3 = None, None, None\n",
    "\n",
    "for i in range(total_tests):\n",
    "    op1 = random_op()\n",
    "    result_of_first_two_cards = op(car1, car2, op1)\n",
    "    #print(result_of_first_two_cards)\n",
    "\n",
    "    op2 = random_op()\n",
    "    result_of_first_three_cards = op(result_of_first_two_cards, car3, op2)\n",
    "    #print(result_of_first_three_cards)\n",
    "\n",
    "    op3 = random_op()\n",
    "    result_of_total = op(result_of_first_three_cards, car4, op3)\n",
    "   # print(result_of_total)\n",
    "\n",
    "    if result_of_total == 24: \n",
    "        print('😁我找到方法了, 答案是 {}{}{}{}{}{}{}'.format(car1, op1, car2, op2, car3, op3, car4))\n",
    "        #print(op1, op2, op3)\n",
    "        result_found_num += 1\n",
    "        right_op1, right_op2, right_op3 = op1, op2, op3\n",
    "    \n",
    "\n",
    "print(result_found_num)\n",
    "print('the ratio of success is:{}'.format(result_found_num / total_tests))\n",
    "#print('after {} tests, the ratio of success is:{}'.format(total_tests, result_found_num / total_tests))"
   ]
  },
  {
   "cell_type": "code",
   "execution_count": 27,
   "metadata": {},
   "outputs": [],
   "source": [
    "new_card1 = random.randint(1, 14)\n",
    "new_card2 = random.randint(1, 14)\n",
    "new_card3 = random.randint(1, 14)\n",
    "new_card4 = random.randint(1, 14)"
   ]
  },
  {
   "cell_type": "code",
   "execution_count": 28,
   "metadata": {},
   "outputs": [],
   "source": [
    "def get_right_answer_by_random(card1, card2, card3, card4):\n",
    "    result_found_num= 0\n",
    "\n",
    "    total_tests = 64\n",
    "    \n",
    "    right_op1, right_op2, right_op3 = None, None, None\n",
    "    \n",
    "    for i in range(total_tests):\n",
    "        op1 = random_op()\n",
    "        result_of_first_two_cards = op(card1, card2, op1)\n",
    "        #print(result_of_first_two_cards)\n",
    "\n",
    "        op2 = random_op()\n",
    "        result_of_first_three_cards = op(result_of_first_two_cards, card3, op2)\n",
    "        #print(result_of_first_three_cards)\n",
    "\n",
    "        op3 = random_op()\n",
    "        result_of_total = op(result_of_first_three_cards, card4, op3)\n",
    "       # print(result_of_total)\n",
    "\n",
    "        if result_of_total == 24: \n",
    "            #print('😁我找到方法了, 答案是 {}{}{}{}{}{}{}'.format(card1, op1, card2, op2, card3, op3, card4))\n",
    "            #print(op1, op2, op3)\n",
    "            result_found_num += 1\n",
    "            right_op1, right_op2, right_op3 = op1, op2, op3\n",
    "\n",
    "\n",
    "        #print(result_found_num)\n",
    "        #print('the ratio of success is:{}'.format(result_found_num / total_tests))\n",
    "        \n",
    "    if result_found_num != 0: \n",
    "        print('😁我找到方法了, 答案是 {}{}{}{}{}{}{}'.format(card1, right_op1, card2, right_op2, card3, right_op3, card4))\n",
    "    else:\n",
    "        print('我没有找到答案 😂')\n",
    "    #print('after {} tests, the ratio of success is:{}'.format(total_tests, result_found_num / total_tests))"
   ]
  },
  {
   "cell_type": "code",
   "execution_count": 29,
   "metadata": {},
   "outputs": [
    {
     "name": "stdout",
     "output_type": "stream",
     "text": [
      "😁我找到方法了, 答案是 9+10+11-6\n"
     ]
    }
   ],
   "source": [
    "get_right_answer_by_random(car1, car2, car3, car4)"
   ]
  },
  {
   "cell_type": "code",
   "execution_count": 30,
   "metadata": {},
   "outputs": [],
   "source": [
    "new_card1 = random.randint(1, 14)\n",
    "new_card2 = random.randint(1, 14)\n",
    "new_card3 = random.randint(1, 14)\n",
    "new_card4 = random.randint(1, 14)"
   ]
  },
  {
   "cell_type": "code",
   "execution_count": 31,
   "metadata": {},
   "outputs": [],
   "source": [
    "new_cards = [random.randint(1, 14), random.randint(1, 14), random.randint(1, 14), random.randint(1, 14)]"
   ]
  },
  {
   "cell_type": "code",
   "execution_count": 32,
   "metadata": {},
   "outputs": [
    {
     "data": {
      "text/plain": [
       "[4, 2, 1, 7]"
      ]
     },
     "execution_count": 32,
     "metadata": {},
     "output_type": "execute_result"
    }
   ],
   "source": [
    "new_cards"
   ]
  },
  {
   "cell_type": "markdown",
   "metadata": {},
   "source": [
    "## DRY 法则！"
   ]
  },
  {
   "cell_type": "markdown",
   "metadata": {},
   "source": [
    "## Don't Repeat Yourself"
   ]
  },
  {
   "cell_type": "markdown",
   "metadata": {},
   "source": [
    "### Repetion is the mother of evil "
   ]
  },
  {
   "cell_type": "markdown",
   "metadata": {},
   "source": [
    "## 计算机科学的本质是: control the complexity"
   ]
  },
  {
   "cell_type": "code",
   "execution_count": 33,
   "metadata": {},
   "outputs": [],
   "source": [
    "def rand_card():\n",
    "    return random.randint(1, 14)"
   ]
  },
  {
   "cell_type": "code",
   "execution_count": 34,
   "metadata": {},
   "outputs": [],
   "source": [
    "new_cards = [rand_card(), rand_card(), rand_card(), rand_card()]"
   ]
  },
  {
   "cell_type": "code",
   "execution_count": 35,
   "metadata": {},
   "outputs": [
    {
     "data": {
      "text/plain": [
       "[9, 2, 14, 1]"
      ]
     },
     "execution_count": 35,
     "metadata": {},
     "output_type": "execute_result"
    }
   ],
   "source": [
    "new_cards"
   ]
  },
  {
   "cell_type": "code",
   "execution_count": 36,
   "metadata": {},
   "outputs": [],
   "source": [
    "new_cards = [rand_card() for _ in range(4)]"
   ]
  },
  {
   "cell_type": "code",
   "execution_count": 37,
   "metadata": {},
   "outputs": [
    {
     "data": {
      "text/plain": [
       "[14, 9, 14, 9]"
      ]
     },
     "execution_count": 37,
     "metadata": {},
     "output_type": "execute_result"
    }
   ],
   "source": [
    "new_cards"
   ]
  },
  {
   "cell_type": "code",
   "execution_count": 38,
   "metadata": {},
   "outputs": [],
   "source": [
    "def get_right_answer_by_random(cards):\n",
    "    card1, card2, card3, card4 = cards\n",
    "    result_found_num= 0\n",
    "\n",
    "    total_tests = 64\n",
    "    \n",
    "    right_op1, right_op2, right_op3 = None, None, None\n",
    "\n",
    "    for i in range(total_tests):\n",
    "        op1 = random_op()\n",
    "        result_of_first_two_cards = op(card1, card2, op1)\n",
    "        #print(result_of_first_two_cards)\n",
    "\n",
    "        op2 = random_op()\n",
    "        result_of_first_three_cards = op(result_of_first_two_cards, card3, op2)\n",
    "        #print(result_of_first_three_cards)\n",
    "\n",
    "        op3 = random_op()\n",
    "        result_of_total = op(result_of_first_three_cards, card4, op3)\n",
    "       # print(result_of_total)\n",
    "\n",
    "        if result_of_total == 24: \n",
    "            #print('😁我找到方法了, 答案是 {}{}{}{}{}{}{}'.format(card1, op1, card2, op2, card3, op3, card4))\n",
    "            #print(op1, op2, op3)\n",
    "            right_op1, right_op2, right_op3 = op1, op2, op3\n",
    "            result_found_num += 1\n",
    "\n",
    "        #print(result_found_num)\n",
    "        #print('the ratio of success is:{}'.format(result_found_num / total_tests))\n",
    "        \n",
    "    if result_found_num != 0: \n",
    "        print('😁我找到方法了, 答案是 {}{}{}{}{}{}{}'.format(card1, right_op1, card2, right_op2, card3, right_op3, card4))\n",
    "    else:\n",
    "        print('我没有找到答案 😂')\n",
    "    #print('after {} tests, the ratio of success is:{}'.format(total_tests, result_found_num / total_tests))"
   ]
  },
  {
   "cell_type": "code",
   "execution_count": 39,
   "metadata": {},
   "outputs": [
    {
     "name": "stdout",
     "output_type": "stream",
     "text": [
      "我没有找到答案 😂\n"
     ]
    }
   ],
   "source": [
    "get_right_answer_by_random([1, 3, 1, 1])"
   ]
  },
  {
   "cell_type": "code",
   "execution_count": 40,
   "metadata": {},
   "outputs": [
    {
     "name": "stdout",
     "output_type": "stream",
     "text": [
      "我抽到的牌是: [4, 4, 12, 8]\n",
      "我没有找到答案 😂\n"
     ]
    }
   ],
   "source": [
    "new_cards = [rand_card() for _ in range(4)]\n",
    "print('我抽到的牌是: {}'.format(new_cards))\n",
    "get_right_answer_by_random(new_cards)"
   ]
  },
  {
   "cell_type": "code",
   "execution_count": 41,
   "metadata": {},
   "outputs": [
    {
     "name": "stdout",
     "output_type": "stream",
     "text": [
      "我抽到的牌是: [14, 11, 8, 13]\n",
      "我没有找到答案 😂\n",
      "我抽到的牌是: [8, 3, 4, 8]\n",
      "我没有找到答案 😂\n",
      "我抽到的牌是: [5, 7, 4, 3]\n",
      "😁我找到方法了, 答案是 5+7-4*3\n",
      "我抽到的牌是: [4, 5, 5, 4]\n",
      "我没有找到答案 😂\n",
      "我抽到的牌是: [12, 14, 5, 1]\n",
      "我没有找到答案 😂\n",
      "我抽到的牌是: [14, 11, 9, 14]\n",
      "我没有找到答案 😂\n",
      "我抽到的牌是: [13, 13, 5, 8]\n",
      "我没有找到答案 😂\n",
      "我抽到的牌是: [2, 8, 1, 3]\n",
      "我没有找到答案 😂\n",
      "我抽到的牌是: [13, 11, 11, 1]\n",
      "我没有找到答案 😂\n",
      "我抽到的牌是: [7, 13, 4, 12]\n",
      "我没有找到答案 😂\n"
     ]
    }
   ],
   "source": [
    "for _ in range(10):\n",
    "    new_cards = [rand_card() for _ in range(4)]\n",
    "    print('我抽到的牌是: {}'.format(new_cards))\n",
    "    get_right_answer_by_random(new_cards)"
   ]
  },
  {
   "cell_type": "code",
   "execution_count": 42,
   "metadata": {},
   "outputs": [],
   "source": [
    "def get_right_answer_by_random_with_brace(cards):\n",
    "    # with_brace\n",
    "    card1, card2, card3, card4 = cards\n",
    "    result_found_num= 0\n",
    "\n",
    "    total_tests = 64\n",
    "    \n",
    "    right_op1, right_op2, right_op3 = None, None, None\n",
    "\n",
    "    for i in range(total_tests):\n",
    "        op1 = random_op()\n",
    "        result_of_first_two_cards = op(card1, card2, op1)\n",
    "        #print(result_of_first_two_cards)\n",
    "\n",
    "        op2 = random_op()\n",
    "        result_of_first_three_cards = op(result_of_first_two_cards, card3, op2)\n",
    "        #print(result_of_first_three_cards)\n",
    "\n",
    "        op3 = random_op()\n",
    "        result_of_total = op(result_of_first_three_cards, card4, op3)\n",
    "       # print(result_of_total)\n",
    "\n",
    "        if result_of_total == 24: \n",
    "            #print('😁我找到方法了, 答案是 {}{}{}{}{}{}{}'.format(card1, op1, card2, op2, card3, op3, card4))\n",
    "            #print(op1, op2, op3)\n",
    "            right_op1, right_op2, right_op3 = op1, op2, op3\n",
    "            result_found_num += 1\n",
    "\n",
    "        #print(result_found_num)\n",
    "        #print('the ratio of success is:{}'.format(result_found_num / total_tests))\n",
    "        \n",
    "    if result_found_num != 0: \n",
    "        print('😁我找到方法了, 答案是 (({}{}{}){}{}){}{}'.format(card1, right_op1, card2, right_op2, card3, right_op3, card4))\n",
    "    else:\n",
    "        print('我没有找到答案 😂')\n",
    "    #print('after {} tests, the ratio of success is:{}'.format(total_tests, result_found_num / total_tests))"
   ]
  },
  {
   "cell_type": "code",
   "execution_count": 43,
   "metadata": {},
   "outputs": [
    {
     "name": "stdout",
     "output_type": "stream",
     "text": [
      "我抽到的牌是: [1, 1, 5, 2]\n",
      "我没有找到答案 😂\n",
      "我抽到的牌是: [11, 8, 2, 2]\n",
      "我没有找到答案 😂\n",
      "我抽到的牌是: [3, 12, 7, 1]\n",
      "我没有找到答案 😂\n",
      "我抽到的牌是: [8, 10, 5, 1]\n",
      "😁我找到方法了, 答案是 ((8+10)+5)+1\n",
      "我抽到的牌是: [6, 14, 9, 13]\n",
      "😁我找到方法了, 答案是 ((6+14)-9)+13\n",
      "我抽到的牌是: [9, 3, 5, 8]\n",
      "我没有找到答案 😂\n",
      "我抽到的牌是: [2, 10, 3, 7]\n",
      "我没有找到答案 😂\n",
      "我抽到的牌是: [9, 14, 7, 11]\n",
      "我没有找到答案 😂\n",
      "我抽到的牌是: [2, 4, 11, 9]\n",
      "我没有找到答案 😂\n",
      "我抽到的牌是: [3, 2, 4, 14]\n",
      "😁我找到方法了, 答案是 ((3*2)+4)+14\n"
     ]
    }
   ],
   "source": [
    "for _ in range(10):\n",
    "    new_cards = [rand_card() for _ in range(4)]\n",
    "    print('我抽到的牌是: {}'.format(new_cards))\n",
    "    get_right_answer_by_random_with_brace(new_cards)"
   ]
  },
  {
   "cell_type": "code",
   "execution_count": 44,
   "metadata": {},
   "outputs": [
    {
     "data": {
      "text/plain": [
       "19"
      ]
     },
     "execution_count": 44,
     "metadata": {},
     "output_type": "execute_result"
    }
   ],
   "source": [
    "eval('2+3+4+10')"
   ]
  },
  {
   "cell_type": "markdown",
   "metadata": {},
   "source": [
    "eval() = evalute"
   ]
  },
  {
   "cell_type": "code",
   "execution_count": 45,
   "metadata": {},
   "outputs": [],
   "source": [
    "new_cards = [rand_card() for _ in range(4)]"
   ]
  },
  {
   "cell_type": "code",
   "execution_count": 46,
   "metadata": {},
   "outputs": [],
   "source": [
    "def get_new_cards(): \n",
    "    return [rand_card() for _ in range(4)]"
   ]
  },
  {
   "cell_type": "code",
   "execution_count": 47,
   "metadata": {},
   "outputs": [
    {
     "data": {
      "text/plain": [
       "[3, 5, 12, 7]"
      ]
     },
     "execution_count": 47,
     "metadata": {},
     "output_type": "execute_result"
    }
   ],
   "source": [
    "get_new_cards()"
   ]
  },
  {
   "cell_type": "code",
   "execution_count": 48,
   "metadata": {},
   "outputs": [],
   "source": [
    "from itertools import combinations"
   ]
  },
  {
   "cell_type": "code",
   "execution_count": 49,
   "metadata": {},
   "outputs": [
    {
     "data": {
      "text/plain": [
       "\u001b[1;31mInit signature:\u001b[0m \u001b[0mcombinations\u001b[0m\u001b[1;33m(\u001b[0m\u001b[0miterable\u001b[0m\u001b[1;33m,\u001b[0m \u001b[0mr\u001b[0m\u001b[1;33m)\u001b[0m\u001b[1;33m\u001b[0m\u001b[1;33m\u001b[0m\u001b[0m\n",
       "\u001b[1;31mDocstring:\u001b[0m     \n",
       "Return successive r-length combinations of elements in the iterable.\n",
       "\n",
       "combinations(range(4), 3) --> (0,1,2), (0,1,3), (0,2,3), (1,2,3)\n",
       "\u001b[1;31mType:\u001b[0m           type\n",
       "\u001b[1;31mSubclasses:\u001b[0m     \n"
      ]
     },
     "metadata": {},
     "output_type": "display_data"
    }
   ],
   "source": [
    "combinations?"
   ]
  },
  {
   "cell_type": "code",
   "execution_count": 50,
   "metadata": {},
   "outputs": [
    {
     "name": "stdout",
     "output_type": "stream",
     "text": [
      "('+', '-', '*')\n",
      "('+', '-', '/')\n",
      "('+', '*', '/')\n",
      "('-', '*', '/')\n"
     ]
    }
   ],
   "source": [
    "for c in combinations(['+', '-', '*', '/'], 3):\n",
    "    print(c)"
   ]
  },
  {
   "cell_type": "code",
   "execution_count": 51,
   "metadata": {},
   "outputs": [],
   "source": [
    "from itertools import product"
   ]
  },
  {
   "cell_type": "code",
   "execution_count": 52,
   "metadata": {},
   "outputs": [
    {
     "name": "stdout",
     "output_type": "stream",
     "text": [
      "('+', '+', '+')\n",
      "('+', '+', '-')\n",
      "('+', '+', '*')\n",
      "('+', '+', '/')\n",
      "('+', '-', '+')\n",
      "('+', '-', '-')\n",
      "('+', '-', '*')\n",
      "('+', '-', '/')\n",
      "('+', '*', '+')\n",
      "('+', '*', '-')\n",
      "('+', '*', '*')\n",
      "('+', '*', '/')\n",
      "('+', '/', '+')\n",
      "('+', '/', '-')\n",
      "('+', '/', '*')\n",
      "('+', '/', '/')\n",
      "('-', '+', '+')\n",
      "('-', '+', '-')\n",
      "('-', '+', '*')\n",
      "('-', '+', '/')\n",
      "('-', '-', '+')\n",
      "('-', '-', '-')\n",
      "('-', '-', '*')\n",
      "('-', '-', '/')\n",
      "('-', '*', '+')\n",
      "('-', '*', '-')\n",
      "('-', '*', '*')\n",
      "('-', '*', '/')\n",
      "('-', '/', '+')\n",
      "('-', '/', '-')\n",
      "('-', '/', '*')\n",
      "('-', '/', '/')\n",
      "('*', '+', '+')\n",
      "('*', '+', '-')\n",
      "('*', '+', '*')\n",
      "('*', '+', '/')\n",
      "('*', '-', '+')\n",
      "('*', '-', '-')\n",
      "('*', '-', '*')\n",
      "('*', '-', '/')\n",
      "('*', '*', '+')\n",
      "('*', '*', '-')\n",
      "('*', '*', '*')\n",
      "('*', '*', '/')\n",
      "('*', '/', '+')\n",
      "('*', '/', '-')\n",
      "('*', '/', '*')\n",
      "('*', '/', '/')\n",
      "('/', '+', '+')\n",
      "('/', '+', '-')\n",
      "('/', '+', '*')\n",
      "('/', '+', '/')\n",
      "('/', '-', '+')\n",
      "('/', '-', '-')\n",
      "('/', '-', '*')\n",
      "('/', '-', '/')\n",
      "('/', '*', '+')\n",
      "('/', '*', '-')\n",
      "('/', '*', '*')\n",
      "('/', '*', '/')\n",
      "('/', '/', '+')\n",
      "('/', '/', '-')\n",
      "('/', '/', '*')\n",
      "('/', '/', '/')\n"
     ]
    }
   ],
   "source": [
    "for c in product(['+', '-', '*', '/'], repeat=3):\n",
    "    print(c)"
   ]
  },
  {
   "cell_type": "code",
   "execution_count": 53,
   "metadata": {},
   "outputs": [],
   "source": [
    "def get_all_opeartion_combine(cards):\n",
    "    c1, c2, c3, c4 = cards\n",
    "    operations = ['+', '-', '*', '/']\n",
    "    \n",
    "    expressions = []\n",
    "\n",
    "    for ops in product(operations, repeat=len(cards) - 1): # why not set 3 directly\n",
    "        op1, op2, op3 = ops\n",
    "        \n",
    "        expressions.append('{}{}{}{}{}{}{}'.format(c1, op1, c2, op2, c3, op3, c4))\n",
    "    \n",
    "    return expressions"
   ]
  },
  {
   "cell_type": "code",
   "execution_count": 54,
   "metadata": {},
   "outputs": [
    {
     "name": "stdout",
     "output_type": "stream",
     "text": [
      "我抽到的牌是:[6, 8, 6, 4]\n"
     ]
    }
   ],
   "source": [
    "r_cards = get_new_cards()\n",
    "print('我抽到的牌是:{}'.format(r_cards))"
   ]
  },
  {
   "cell_type": "code",
   "execution_count": 55,
   "metadata": {},
   "outputs": [
    {
     "data": {
      "text/plain": [
       "64"
      ]
     },
     "execution_count": 55,
     "metadata": {},
     "output_type": "execute_result"
    }
   ],
   "source": [
    "len(get_all_opeartion_combine(r_cards))"
   ]
  },
  {
   "cell_type": "code",
   "execution_count": 56,
   "metadata": {},
   "outputs": [
    {
     "data": {
      "text/plain": [
       "[8, 10, 11, 10]"
      ]
     },
     "execution_count": 56,
     "metadata": {},
     "output_type": "execute_result"
    }
   ],
   "source": [
    "r_cards = get_new_cards()\n",
    "r_cards"
   ]
  },
  {
   "cell_type": "code",
   "execution_count": 57,
   "metadata": {},
   "outputs": [],
   "source": [
    "for exp in get_all_opeartion_combine(r_cards):\n",
    "    if eval(exp) == 24:\n",
    "        print(exp)\n",
    "        break"
   ]
  },
  {
   "cell_type": "code",
   "execution_count": 58,
   "metadata": {},
   "outputs": [
    {
     "name": "stdout",
     "output_type": "stream",
     "text": [
      "9+10+11-6\n"
     ]
    }
   ],
   "source": [
    "car1 = 9\n",
    "car2 = 10\n",
    "car3 = 11\n",
    "car4 = 6\n",
    "\n",
    "r_cards = [car1, car2, car3, car4]\n",
    "\n",
    "for exp in get_all_opeartion_combine(r_cards):\n",
    "    if eval(exp) == 24:\n",
    "        print(exp)\n",
    "        break"
   ]
  },
  {
   "cell_type": "code",
   "execution_count": 59,
   "metadata": {},
   "outputs": [],
   "source": [
    "def simple_but_may_not_answer_24point(cards):\n",
    "    result = None\n",
    "    \n",
    "    for exp in get_all_opeartion_combine(cards):\n",
    "        if eval(exp) == 24: \n",
    "            result = exp\n",
    "            break\n",
    "            \n",
    "    print('我找到的答案是:{}'.format(result))\n",
    "    \n",
    "    return result"
   ]
  },
  {
   "cell_type": "code",
   "execution_count": 60,
   "metadata": {},
   "outputs": [
    {
     "name": "stdout",
     "output_type": "stream",
     "text": [
      "我抽到的牌是: [9, 13, 6, 9]\n",
      "我找到的答案是:None\n",
      "我抽到的牌是: [9, 14, 3, 14]\n",
      "我找到的答案是:None\n",
      "我抽到的牌是: [4, 12, 10, 9]\n",
      "我找到的答案是:None\n",
      "我抽到的牌是: [2, 9, 12, 10]\n",
      "我找到的答案是:None\n",
      "我抽到的牌是: [5, 5, 5, 1]\n",
      "我找到的答案是:None\n",
      "我抽到的牌是: [12, 6, 5, 4]\n",
      "我找到的答案是:None\n",
      "我抽到的牌是: [12, 14, 14, 6]\n",
      "我找到的答案是:None\n",
      "我抽到的牌是: [8, 12, 10, 4]\n",
      "我找到的答案是:None\n",
      "我抽到的牌是: [10, 10, 3, 7]\n",
      "我找到的答案是:10+10-3+7\n",
      "我抽到的牌是: [6, 14, 5, 10]\n",
      "我找到的答案是:None\n",
      "我抽到的牌是: [12, 7, 8, 12]\n",
      "我找到的答案是:None\n",
      "我抽到的牌是: [11, 4, 3, 6]\n",
      "我找到的答案是:11+4+3+6\n",
      "我抽到的牌是: [3, 2, 5, 3]\n",
      "我找到的答案是:None\n",
      "我抽到的牌是: [14, 3, 13, 13]\n",
      "我找到的答案是:None\n",
      "我抽到的牌是: [10, 1, 12, 9]\n",
      "我找到的答案是:None\n",
      "我抽到的牌是: [12, 9, 8, 3]\n",
      "我找到的答案是:None\n",
      "我抽到的牌是: [5, 4, 4, 4]\n",
      "我找到的答案是:None\n",
      "我抽到的牌是: [6, 3, 12, 7]\n",
      "我找到的答案是:None\n",
      "我抽到的牌是: [9, 4, 12, 11]\n",
      "我找到的答案是:None\n",
      "我抽到的牌是: [1, 2, 9, 9]\n",
      "我找到的答案是:None\n",
      "我抽到的牌是: [13, 3, 12, 8]\n",
      "我找到的答案是:None\n",
      "我抽到的牌是: [9, 5, 12, 5]\n",
      "我找到的答案是:None\n",
      "我抽到的牌是: [2, 11, 3, 7]\n",
      "我找到的答案是:None\n",
      "我抽到的牌是: [11, 11, 10, 3]\n",
      "我找到的答案是:None\n",
      "我抽到的牌是: [13, 11, 10, 12]\n",
      "我找到的答案是:13-11+10+12\n",
      "我抽到的牌是: [6, 5, 12, 2]\n",
      "我找到的答案是:6*5-12/2\n",
      "我抽到的牌是: [4, 14, 10, 8]\n",
      "我找到的答案是:None\n",
      "我抽到的牌是: [1, 2, 3, 3]\n",
      "我找到的答案是:None\n",
      "我抽到的牌是: [10, 9, 10, 7]\n",
      "我找到的答案是:None\n",
      "我抽到的牌是: [2, 6, 2, 14]\n",
      "我找到的答案是:2+6+2+14\n",
      "我抽到的牌是: [9, 9, 8, 1]\n",
      "我找到的答案是:None\n",
      "我抽到的牌是: [4, 6, 6, 9]\n",
      "我找到的答案是:None\n",
      "我抽到的牌是: [12, 4, 10, 3]\n",
      "我找到的答案是:None\n",
      "我抽到的牌是: [10, 3, 1, 13]\n",
      "我找到的答案是:None\n",
      "我抽到的牌是: [1, 7, 13, 9]\n",
      "我找到的答案是:None\n",
      "我抽到的牌是: [3, 6, 5, 4]\n",
      "我找到的答案是:None\n",
      "我抽到的牌是: [2, 9, 1, 14]\n",
      "我找到的答案是:2+9-1+14\n",
      "我抽到的牌是: [8, 14, 5, 10]\n",
      "我找到的答案是:None\n",
      "我抽到的牌是: [2, 13, 6, 5]\n",
      "我找到的答案是:None\n",
      "我抽到的牌是: [10, 6, 9, 4]\n",
      "我找到的答案是:10*6-9*4\n",
      "我抽到的牌是: [9, 4, 2, 2]\n",
      "我找到的答案是:None\n",
      "我抽到的牌是: [12, 10, 5, 1]\n",
      "我找到的答案是:12*10/5*1\n",
      "我抽到的牌是: [8, 14, 2, 12]\n",
      "我找到的答案是:8+14*2-12\n",
      "我抽到的牌是: [9, 13, 5, 9]\n",
      "我找到的答案是:None\n",
      "我抽到的牌是: [6, 6, 1, 9]\n",
      "我找到的答案是:None\n",
      "我抽到的牌是: [8, 8, 2, 13]\n",
      "我找到的答案是:None\n",
      "我抽到的牌是: [12, 8, 10, 13]\n",
      "我找到的答案是:None\n",
      "我抽到的牌是: [5, 6, 13, 11]\n",
      "我找到的答案是:None\n",
      "我抽到的牌是: [12, 2, 11, 1]\n",
      "我找到的答案是:12+2+11-1\n",
      "我抽到的牌是: [4, 2, 6, 6]\n",
      "我找到的答案是:None\n",
      "我抽到的牌是: [8, 11, 5, 4]\n",
      "我找到的答案是:None\n",
      "我抽到的牌是: [6, 10, 4, 6]\n",
      "我找到的答案是:None\n",
      "我抽到的牌是: [7, 7, 5, 3]\n",
      "我找到的答案是:None\n",
      "我抽到的牌是: [10, 3, 9, 3]\n",
      "我找到的答案是:10*3-9+3\n",
      "我抽到的牌是: [12, 5, 7, 8]\n",
      "我找到的答案是:None\n",
      "我抽到的牌是: [11, 9, 10, 11]\n",
      "我找到的答案是:None\n",
      "我抽到的牌是: [1, 5, 4, 5]\n",
      "我找到的答案是:None\n",
      "我抽到的牌是: [4, 10, 5, 5]\n",
      "我找到的答案是:4+10+5+5\n",
      "我抽到的牌是: [2, 4, 3, 5]\n",
      "我找到的答案是:None\n",
      "我抽到的牌是: [1, 5, 1, 8]\n",
      "我找到的答案是:None\n",
      "我抽到的牌是: [7, 8, 3, 5]\n",
      "我找到的答案是:None\n",
      "我抽到的牌是: [11, 8, 3, 13]\n",
      "我找到的答案是:None\n",
      "我抽到的牌是: [14, 12, 2, 4]\n",
      "我找到的答案是:14+12+2-4\n",
      "我抽到的牌是: [8, 4, 13, 9]\n",
      "我找到的答案是:8/4+13+9\n",
      "我抽到的牌是: [8, 13, 10, 4]\n",
      "我找到的答案是:None\n",
      "我抽到的牌是: [12, 5, 4, 7]\n",
      "我找到的答案是:None\n",
      "我抽到的牌是: [12, 7, 7, 8]\n",
      "我找到的答案是:None\n",
      "我抽到的牌是: [6, 3, 10, 14]\n",
      "我找到的答案是:None\n",
      "我抽到的牌是: [9, 12, 14, 5]\n",
      "我找到的答案是:None\n",
      "我抽到的牌是: [3, 6, 13, 4]\n",
      "我找到的答案是:None\n",
      "我抽到的牌是: [11, 10, 5, 10]\n",
      "我找到的答案是:None\n",
      "我抽到的牌是: [8, 2, 7, 4]\n",
      "我找到的答案是:8/2*7-4\n",
      "我抽到的牌是: [10, 9, 8, 12]\n",
      "我找到的答案是:None\n",
      "我抽到的牌是: [8, 12, 7, 6]\n",
      "我找到的答案是:None\n",
      "我抽到的牌是: [8, 9, 14, 11]\n",
      "我找到的答案是:8-9+14+11\n",
      "我抽到的牌是: [1, 8, 4, 11]\n",
      "我找到的答案是:1+8+4+11\n",
      "我抽到的牌是: [10, 12, 5, 12]\n",
      "我找到的答案是:None\n",
      "我抽到的牌是: [1, 12, 9, 5]\n",
      "我找到的答案是:None\n",
      "我抽到的牌是: [7, 5, 9, 11]\n",
      "我找到的答案是:None\n",
      "我抽到的牌是: [14, 5, 5, 6]\n",
      "我找到的答案是:None\n",
      "我抽到的牌是: [13, 3, 5, 8]\n",
      "我找到的答案是:None\n",
      "我抽到的牌是: [1, 12, 8, 8]\n",
      "我找到的答案是:None\n",
      "我抽到的牌是: [2, 2, 8, 2]\n",
      "我找到的答案是:None\n",
      "我抽到的牌是: [6, 4, 3, 7]\n",
      "我找到的答案是:None\n",
      "我抽到的牌是: [7, 8, 5, 12]\n",
      "我找到的答案是:None\n",
      "我抽到的牌是: [5, 4, 3, 10]\n",
      "我找到的答案是:None\n",
      "我抽到的牌是: [4, 10, 7, 2]\n",
      "我找到的答案是:None\n",
      "我抽到的牌是: [9, 9, 1, 4]\n",
      "我找到的答案是:None\n",
      "我抽到的牌是: [1, 2, 6, 2]\n",
      "我找到的答案是:1*2*6*2\n",
      "我抽到的牌是: [7, 3, 10, 2]\n",
      "我找到的答案是:7-3+10*2\n",
      "我抽到的牌是: [13, 9, 10, 10]\n",
      "我找到的答案是:13-9+10+10\n",
      "我抽到的牌是: [6, 9, 9, 9]\n",
      "我找到的答案是:None\n",
      "我抽到的牌是: [3, 10, 3, 9]\n",
      "我找到的答案是:3+10*3-9\n",
      "我抽到的牌是: [5, 8, 4, 11]\n",
      "我找到的答案是:None\n",
      "我抽到的牌是: [7, 3, 5, 1]\n",
      "我找到的答案是:None\n",
      "我抽到的牌是: [14, 14, 1, 10]\n",
      "我找到的答案是:None\n",
      "我抽到的牌是: [13, 10, 4, 5]\n",
      "我找到的答案是:13+10-4+5\n",
      "我抽到的牌是: [3, 1, 14, 4]\n",
      "我找到的答案是:None\n",
      "我抽到的牌是: [12, 6, 13, 6]\n",
      "我找到的答案是:None\n",
      "我抽到的牌是: [5, 8, 9, 12]\n",
      "我找到的答案是:None\n",
      "the ratoi of find answer == 0.22\n"
     ]
    }
   ],
   "source": [
    "found_answers = []\n",
    "\n",
    "\n",
    "total_test = 100\n",
    "\n",
    "for _ in range(total_test):\n",
    "    r_cards = get_new_cards()\n",
    "    print('我抽到的牌是: {}'.format(r_cards))\n",
    "    res = simple_but_may_not_answer_24point(r_cards)\n",
    "    if res: found_answers.append(r_cards)\n",
    "    \n",
    "print('the ratoi of find answer == {}'.format(len(found_answers)/total_test))"
   ]
  },
  {
   "cell_type": "markdown",
   "metadata": {},
   "source": [
    "## With Numbers Exchange"
   ]
  },
  {
   "cell_type": "code",
   "execution_count": 61,
   "metadata": {},
   "outputs": [],
   "source": [
    "from itertools import permutations"
   ]
  },
  {
   "cell_type": "code",
   "execution_count": 62,
   "metadata": {},
   "outputs": [],
   "source": [
    "def get_all_opeartion_combine(cards):\n",
    "    c1, c2, c3, c4 = cards\n",
    "    operations = ['+', '-', '*', '/']\n",
    "    \n",
    "    expressions = []\n",
    "\n",
    "    for ops in product(operations, repeat=len(cards) - 1): # why not set 3 directly\n",
    "        op1, op2, op3 = ops\n",
    "        \n",
    "        expressions.append('{}{}{}{}{}{}{}'.format(c1, op1, c2, op2, c3, op3, c4))\n",
    "    \n",
    "    return expressions\n",
    "\n",
    "def get_all_opeartion_combine_with_number_exchange(cards):\n",
    "    all_result = []\n",
    "    \n",
    "    for cards_exchange in permutations(cards):\n",
    "        all_result += get_all_opeartion_combine(cards_exchange)\n",
    "    \n",
    "    return all_result"
   ]
  },
  {
   "cell_type": "code",
   "execution_count": 63,
   "metadata": {},
   "outputs": [
    {
     "data": {
      "text/plain": [
       "[4, 10, 14, 1]"
      ]
     },
     "execution_count": 63,
     "metadata": {},
     "output_type": "execute_result"
    }
   ],
   "source": [
    "[4, 10, 14, 1]"
   ]
  },
  {
   "cell_type": "code",
   "execution_count": 64,
   "metadata": {},
   "outputs": [],
   "source": [
    "all_combine = get_all_opeartion_combine_with_number_exchange([4, 10, 14, 1])"
   ]
  },
  {
   "cell_type": "code",
   "execution_count": 65,
   "metadata": {},
   "outputs": [],
   "source": [
    "def simple_but_may_not_answer_24point_powerful(cards):\n",
    "    result = None\n",
    "    \n",
    "    for exp in get_all_opeartion_combine_with_number_exchange(cards):\n",
    "        if eval(exp) == 24: \n",
    "            result = exp\n",
    "            break\n",
    "            \n",
    "    print('我找到的答案是:{}'.format(result))\n",
    "    \n",
    "    return result"
   ]
  },
  {
   "cell_type": "code",
   "execution_count": 66,
   "metadata": {},
   "outputs": [
    {
     "name": "stdout",
     "output_type": "stream",
     "text": [
      "我抽到的牌是: [8, 10, 2, 11]\n",
      "我找到的答案是:8+10/2+11\n",
      "我抽到的牌是: [11, 1, 11, 1]\n",
      "我找到的答案是:11+1+11+1\n",
      "我抽到的牌是: [7, 12, 6, 1]\n",
      "我找到的答案是:7+12+6-1\n",
      "我抽到的牌是: [9, 2, 8, 9]\n",
      "我找到的答案是:9-2+8+9\n",
      "我抽到的牌是: [9, 8, 9, 8]\n",
      "我找到的答案是:None\n",
      "我抽到的牌是: [5, 13, 4, 7]\n",
      "我找到的答案是:None\n",
      "我抽到的牌是: [7, 2, 3, 3]\n",
      "我找到的答案是:None\n",
      "我抽到的牌是: [5, 10, 10, 7]\n",
      "我找到的答案是:10/5*7+10\n",
      "我抽到的牌是: [13, 2, 12, 8]\n",
      "我找到的答案是:None\n",
      "我抽到的牌是: [10, 9, 3, 7]\n",
      "我找到的答案是:9*3-10+7\n",
      "我抽到的牌是: [13, 8, 7, 2]\n",
      "我找到的答案是:13+8/2+7\n",
      "我抽到的牌是: [4, 2, 5, 13]\n",
      "我找到的答案是:4+2+5+13\n",
      "我抽到的牌是: [12, 12, 8, 2]\n",
      "我找到的答案是:None\n",
      "我抽到的牌是: [10, 12, 8, 7]\n",
      "我找到的答案是:None\n",
      "我抽到的牌是: [5, 14, 14, 11]\n",
      "我找到的答案是:None\n",
      "我抽到的牌是: [14, 9, 12, 7]\n",
      "我找到的答案是:14-9+12+7\n",
      "我抽到的牌是: [1, 3, 12, 2]\n",
      "我找到的答案是:None\n",
      "我抽到的牌是: [4, 13, 8, 1]\n",
      "我找到的答案是:4+13+8-1\n",
      "我抽到的牌是: [4, 4, 10, 7]\n",
      "我找到的答案是:None\n",
      "我抽到的牌是: [5, 9, 12, 14]\n",
      "我找到的答案是:None\n",
      "我抽到的牌是: [2, 14, 1, 4]\n",
      "我找到的答案是:2*14-1*4\n",
      "我抽到的牌是: [12, 13, 14, 8]\n",
      "我找到的答案是:None\n",
      "我抽到的牌是: [2, 9, 1, 5]\n",
      "我找到的答案是:2*9+1+5\n",
      "我抽到的牌是: [2, 9, 4, 8]\n",
      "我找到的答案是:None\n",
      "我抽到的牌是: [5, 6, 1, 1]\n",
      "我找到的答案是:None\n",
      "我抽到的牌是: [1, 7, 10, 12]\n",
      "我找到的答案是:None\n",
      "我抽到的牌是: [8, 8, 1, 13]\n",
      "我找到的答案是:None\n",
      "我抽到的牌是: [8, 4, 4, 4]\n",
      "我找到的答案是:8*4-4-4\n",
      "我抽到的牌是: [7, 12, 12, 5]\n",
      "我找到的答案是:7*12-12*5\n",
      "我抽到的牌是: [4, 10, 11, 3]\n",
      "我找到的答案是:None\n",
      "我抽到的牌是: [7, 7, 13, 8]\n",
      "我找到的答案是:None\n",
      "我抽到的牌是: [9, 12, 13, 7]\n",
      "我找到的答案是:None\n",
      "我抽到的牌是: [14, 13, 2, 13]\n",
      "我找到的答案是:None\n",
      "我抽到的牌是: [13, 14, 5, 11]\n",
      "我找到的答案是:None\n",
      "我抽到的牌是: [5, 4, 9, 7]\n",
      "我找到的答案是:5+4*7-9\n",
      "我抽到的牌是: [1, 9, 11, 12]\n",
      "我找到的答案是:None\n",
      "我抽到的牌是: [2, 5, 5, 12]\n",
      "我找到的答案是:2+5+5+12\n",
      "我抽到的牌是: [3, 13, 10, 7]\n",
      "我找到的答案是:3*10-13+7\n",
      "我抽到的牌是: [9, 1, 12, 2]\n",
      "我找到的答案是:9+1+12+2\n",
      "我抽到的牌是: [1, 10, 11, 7]\n",
      "我找到的答案是:None\n",
      "我抽到的牌是: [11, 3, 11, 14]\n",
      "我找到的答案是:None\n",
      "我抽到的牌是: [11, 2, 9, 1]\n",
      "我找到的答案是:None\n",
      "我抽到的牌是: [3, 14, 6, 12]\n",
      "我找到的答案是:3*14-6-12\n",
      "我抽到的牌是: [14, 3, 13, 6]\n",
      "我找到的答案是:14+3+13-6\n",
      "我抽到的牌是: [6, 11, 4, 5]\n",
      "我找到的答案是:None\n",
      "我抽到的牌是: [14, 12, 1, 11]\n",
      "我找到的答案是:None\n",
      "我抽到的牌是: [14, 2, 6, 11]\n",
      "我找到的答案是:14/2+6+11\n",
      "我抽到的牌是: [4, 7, 8, 7]\n",
      "我找到的答案是:None\n",
      "我抽到的牌是: [14, 11, 8, 12]\n",
      "我找到的答案是:None\n",
      "我抽到的牌是: [11, 5, 2, 6]\n",
      "我找到的答案是:11+5+2+6\n",
      "我抽到的牌是: [14, 13, 8, 2]\n",
      "我找到的答案是:None\n",
      "我抽到的牌是: [7, 14, 14, 1]\n",
      "我找到的答案是:None\n",
      "我抽到的牌是: [5, 9, 12, 4]\n",
      "我找到的答案是:5*12-9*4\n",
      "我抽到的牌是: [1, 9, 5, 3]\n",
      "我找到的答案是:1*9+5*3\n",
      "我抽到的牌是: [9, 9, 4, 11]\n",
      "我找到的答案是:None\n",
      "我抽到的牌是: [2, 11, 12, 10]\n",
      "我找到的答案是:2*11+12-10\n",
      "我抽到的牌是: [10, 11, 6, 11]\n",
      "我找到的答案是:None\n",
      "我抽到的牌是: [4, 12, 5, 12]\n",
      "我找到的答案是:None\n",
      "我抽到的牌是: [4, 11, 9, 1]\n",
      "我找到的答案是:4+11+9*1\n",
      "我抽到的牌是: [3, 12, 8, 12]\n",
      "我找到的答案是:3*12*8/12\n",
      "我抽到的牌是: [4, 11, 12, 7]\n",
      "我找到的答案是:None\n",
      "我抽到的牌是: [2, 6, 14, 12]\n",
      "我找到的答案是:None\n",
      "我抽到的牌是: [4, 1, 10, 13]\n",
      "我找到的答案是:None\n",
      "我抽到的牌是: [12, 10, 13, 3]\n",
      "我找到的答案是:None\n",
      "我抽到的牌是: [12, 2, 12, 2]\n",
      "我找到的答案是:12+2+12-2\n",
      "我抽到的牌是: [11, 9, 12, 12]\n",
      "我找到的答案是:11*12-9*12\n",
      "我抽到的牌是: [1, 5, 10, 1]\n",
      "我找到的答案是:None\n",
      "我抽到的牌是: [4, 7, 11, 8]\n",
      "我找到的答案是:None\n",
      "我抽到的牌是: [3, 5, 14, 13]\n",
      "我找到的答案是:3*14-5-13\n",
      "我抽到的牌是: [9, 8, 6, 1]\n",
      "我找到的答案是:9+8+6+1\n",
      "我抽到的牌是: [1, 14, 13, 8]\n",
      "我找到的答案是:None\n",
      "我抽到的牌是: [8, 9, 4, 9]\n",
      "我找到的答案是:None\n",
      "我抽到的牌是: [10, 3, 2, 9]\n",
      "我找到的答案是:10+3+2+9\n",
      "我抽到的牌是: [10, 8, 11, 9]\n",
      "我找到的答案是:None\n",
      "我抽到的牌是: [11, 11, 2, 3]\n",
      "我找到的答案是:11*3-11+2\n",
      "我抽到的牌是: [4, 12, 14, 3]\n",
      "我找到的答案是:None\n",
      "我抽到的牌是: [10, 1, 9, 7]\n",
      "我找到的答案是:None\n",
      "我抽到的牌是: [9, 4, 1, 13]\n",
      "我找到的答案是:9*4+1-13\n",
      "我抽到的牌是: [7, 10, 6, 13]\n",
      "我找到的答案是:7+10-6+13\n",
      "我抽到的牌是: [9, 9, 12, 9]\n",
      "我找到的答案是:None\n",
      "我抽到的牌是: [3, 12, 11, 9]\n",
      "我找到的答案是:12/3+11+9\n",
      "我抽到的牌是: [11, 3, 1, 4]\n",
      "我找到的答案是:11+3*4+1\n",
      "我抽到的牌是: [12, 11, 10, 4]\n",
      "我找到的答案是:12/4+11+10\n",
      "我抽到的牌是: [3, 14, 5, 9]\n",
      "我找到的答案是:None\n",
      "我抽到的牌是: [13, 8, 7, 13]\n",
      "我找到的答案是:None\n",
      "我抽到的牌是: [9, 4, 6, 1]\n",
      "我找到的答案是:None\n",
      "我抽到的牌是: [9, 6, 8, 13]\n",
      "我找到的答案是:9-6+8+13\n",
      "我抽到的牌是: [13, 1, 5, 12]\n",
      "我找到的答案是:None\n",
      "我抽到的牌是: [11, 2, 5, 6]\n",
      "我找到的答案是:11+2+5+6\n",
      "我抽到的牌是: [1, 4, 12, 4]\n",
      "我找到的答案是:None\n",
      "我抽到的牌是: [7, 9, 7, 5]\n",
      "我找到的答案是:None\n",
      "我抽到的牌是: [3, 13, 5, 9]\n",
      "我找到的答案是:13-3+5+9\n",
      "我抽到的牌是: [2, 9, 5, 10]\n",
      "我找到的答案是:2*10+9-5\n",
      "我抽到的牌是: [1, 3, 5, 11]\n",
      "我找到的答案是:None\n",
      "我抽到的牌是: [8, 6, 4, 3]\n",
      "我找到的答案是:None\n",
      "我抽到的牌是: [5, 14, 11, 1]\n",
      "我找到的答案是:None\n",
      "我抽到的牌是: [14, 12, 9, 11]\n",
      "我找到的答案是:14+12+9-11\n",
      "我抽到的牌是: [13, 6, 4, 4]\n",
      "我找到的答案是:None\n",
      "我抽到的牌是: [9, 12, 7, 1]\n",
      "我找到的答案是:None\n",
      "我抽到的牌是: [10, 14, 10, 10]\n",
      "我找到的答案是:10+14+10-10\n",
      "the ratio of find answer == 0.44\n"
     ]
    }
   ],
   "source": [
    "found_answers = []\n",
    "\n",
    "total_test = 100\n",
    "\n",
    "for _ in range(total_test):\n",
    "    r_cards = get_new_cards()\n",
    "    print('我抽到的牌是: {}'.format(r_cards))\n",
    "    res = simple_but_may_not_answer_24point_powerful(r_cards)\n",
    "    if res: found_answers.append(r_cards)\n",
    "    \n",
    "print('the ratio of find answer == {}'.format(len(found_answers)/total_test))"
   ]
  },
  {
   "cell_type": "markdown",
   "metadata": {},
   "source": [
    "## 为什么？ "
   ]
  },
  {
   "cell_type": "markdown",
   "metadata": {},
   "source": [
    "例如： 5， 4， 6， 13"
   ]
  },
  {
   "cell_type": "code",
   "execution_count": 67,
   "metadata": {},
   "outputs": [
    {
     "data": {
      "text/plain": [
       "24"
      ]
     },
     "execution_count": 67,
     "metadata": {},
     "output_type": "execute_result"
    }
   ],
   "source": [
    "6*((13-5)-4)"
   ]
  },
  {
   "cell_type": "code",
   "execution_count": 68,
   "metadata": {
    "scrolled": true
   },
   "outputs": [
    {
     "data": {
      "text/plain": [
       "69"
      ]
     },
     "execution_count": 68,
     "metadata": {},
     "output_type": "execute_result"
    }
   ],
   "source": [
    "6*13-5-4"
   ]
  },
  {
   "cell_type": "markdown",
   "metadata": {},
   "source": [
    "因为我们缺了括号！"
   ]
  },
  {
   "cell_type": "markdown",
   "metadata": {},
   "source": [
    "## 怎么加上括号呢 ？"
   ]
  },
  {
   "cell_type": "code",
   "execution_count": 69,
   "metadata": {},
   "outputs": [],
   "source": [
    "a_list = [1, 2, 3, 4]"
   ]
  },
  {
   "cell_type": "code",
   "execution_count": 70,
   "metadata": {},
   "outputs": [
    {
     "data": {
      "text/plain": [
       "[1, 2]"
      ]
     },
     "execution_count": 70,
     "metadata": {},
     "output_type": "execute_result"
    }
   ],
   "source": [
    "a_list[:2]"
   ]
  },
  {
   "cell_type": "code",
   "execution_count": 71,
   "metadata": {},
   "outputs": [
    {
     "data": {
      "text/plain": [
       "[4]"
      ]
     },
     "execution_count": 71,
     "metadata": {},
     "output_type": "execute_result"
    }
   ],
   "source": [
    "a_list[3:]"
   ]
  },
  {
   "cell_type": "code",
   "execution_count": 72,
   "metadata": {},
   "outputs": [],
   "source": [
    "def add_brace_of_number(numbers):\n",
    "    if len(numbers) < 2: return [numbers]\n",
    "    if len(numbers) == 2: return [['('] + numbers + [')']]\n",
    "    \n",
    "    results = []\n",
    "    \n",
    "    for i in range(1, len(numbers)):\n",
    "        prefix = numbers[:i]\n",
    "       # assert len(prefix) < len(numbers)\n",
    "        prefixs = add_brace_of_number(prefix)\n",
    "        \n",
    "        tail = numbers[i:]\n",
    "       # assert len(tail) < len(numbers)\n",
    "        tails = add_brace_of_number(tail)\n",
    "        \n",
    "        for p in prefixs:\n",
    "            for t in tails:\n",
    "                results.append(p + t)\n",
    "    \n",
    "    return results"
   ]
  },
  {
   "cell_type": "code",
   "execution_count": 73,
   "metadata": {},
   "outputs": [
    {
     "data": {
      "text/plain": [
       "[[1, 2, 3, '(', 4, 5, ')'],\n",
       " [1, 2, '(', 3, 4, ')', 5],\n",
       " [1, '(', 2, 3, ')', '(', 4, 5, ')'],\n",
       " [1, 2, '(', 3, 4, ')', 5],\n",
       " [1, '(', 2, 3, ')', 4, 5],\n",
       " ['(', 1, 2, ')', 3, '(', 4, 5, ')'],\n",
       " ['(', 1, 2, ')', '(', 3, 4, ')', 5],\n",
       " [1, '(', 2, 3, ')', '(', 4, 5, ')'],\n",
       " ['(', 1, 2, ')', 3, '(', 4, 5, ')'],\n",
       " [1, 2, '(', 3, 4, ')', 5],\n",
       " [1, '(', 2, 3, ')', 4, 5],\n",
       " ['(', 1, 2, ')', '(', 3, 4, ')', 5],\n",
       " [1, '(', 2, 3, ')', 4, 5],\n",
       " ['(', 1, 2, ')', 3, 4, 5]]"
      ]
     },
     "execution_count": 73,
     "metadata": {},
     "output_type": "execute_result"
    }
   ],
   "source": [
    "add_brace_of_number([1, 2, 3, 4, 5])"
   ]
  },
  {
   "cell_type": "code",
   "execution_count": 74,
   "metadata": {},
   "outputs": [],
   "source": [
    "def get_all_opeartion_combine(cards):\n",
    "    c1, c2, c3, c4 = cards\n",
    "    operations = ['+', '-', '*', '/']\n",
    "    \n",
    "    expressions = []\n",
    "\n",
    "    for ops in product(operations, repeat=len(cards) - 1): # why not set 3 directly\n",
    "        op1, op2, op3 = ops\n",
    "        \n",
    "        expressions.append('{} {} {} {} {} {} {}'.format(c1, op1, c2, op2, c3, op3, c4))\n",
    "    \n",
    "    return expressions\n",
    "\n",
    "def get_all_opeartion_combine_with_number_exchange(cards):\n",
    "    all_result = []\n",
    "    \n",
    "    for cards_exchange in permutations(cards):\n",
    "        all_result += get_all_opeartion_combine(cards_exchange)\n",
    "    \n",
    "    return all_result"
   ]
  },
  {
   "cell_type": "code",
   "execution_count": 75,
   "metadata": {},
   "outputs": [
    {
     "data": {
      "text/plain": [
       "['1 + 2 + 3 + 4',\n",
       " '1 + 2 + 3 - 4',\n",
       " '1 + 2 + 3 * 4',\n",
       " '1 + 2 + 3 / 4',\n",
       " '1 + 2 - 3 + 4',\n",
       " '1 + 2 - 3 - 4',\n",
       " '1 + 2 - 3 * 4',\n",
       " '1 + 2 - 3 / 4',\n",
       " '1 + 2 * 3 + 4',\n",
       " '1 + 2 * 3 - 4',\n",
       " '1 + 2 * 3 * 4',\n",
       " '1 + 2 * 3 / 4',\n",
       " '1 + 2 / 3 + 4',\n",
       " '1 + 2 / 3 - 4',\n",
       " '1 + 2 / 3 * 4',\n",
       " '1 + 2 / 3 / 4',\n",
       " '1 - 2 + 3 + 4',\n",
       " '1 - 2 + 3 - 4',\n",
       " '1 - 2 + 3 * 4',\n",
       " '1 - 2 + 3 / 4',\n",
       " '1 - 2 - 3 + 4',\n",
       " '1 - 2 - 3 - 4',\n",
       " '1 - 2 - 3 * 4',\n",
       " '1 - 2 - 3 / 4',\n",
       " '1 - 2 * 3 + 4',\n",
       " '1 - 2 * 3 - 4',\n",
       " '1 - 2 * 3 * 4',\n",
       " '1 - 2 * 3 / 4',\n",
       " '1 - 2 / 3 + 4',\n",
       " '1 - 2 / 3 - 4',\n",
       " '1 - 2 / 3 * 4',\n",
       " '1 - 2 / 3 / 4',\n",
       " '1 * 2 + 3 + 4',\n",
       " '1 * 2 + 3 - 4',\n",
       " '1 * 2 + 3 * 4',\n",
       " '1 * 2 + 3 / 4',\n",
       " '1 * 2 - 3 + 4',\n",
       " '1 * 2 - 3 - 4',\n",
       " '1 * 2 - 3 * 4',\n",
       " '1 * 2 - 3 / 4',\n",
       " '1 * 2 * 3 + 4',\n",
       " '1 * 2 * 3 - 4',\n",
       " '1 * 2 * 3 * 4',\n",
       " '1 * 2 * 3 / 4',\n",
       " '1 * 2 / 3 + 4',\n",
       " '1 * 2 / 3 - 4',\n",
       " '1 * 2 / 3 * 4',\n",
       " '1 * 2 / 3 / 4',\n",
       " '1 / 2 + 3 + 4',\n",
       " '1 / 2 + 3 - 4',\n",
       " '1 / 2 + 3 * 4',\n",
       " '1 / 2 + 3 / 4',\n",
       " '1 / 2 - 3 + 4',\n",
       " '1 / 2 - 3 - 4',\n",
       " '1 / 2 - 3 * 4',\n",
       " '1 / 2 - 3 / 4',\n",
       " '1 / 2 * 3 + 4',\n",
       " '1 / 2 * 3 - 4',\n",
       " '1 / 2 * 3 * 4',\n",
       " '1 / 2 * 3 / 4',\n",
       " '1 / 2 / 3 + 4',\n",
       " '1 / 2 / 3 - 4',\n",
       " '1 / 2 / 3 * 4',\n",
       " '1 / 2 / 3 / 4']"
      ]
     },
     "execution_count": 75,
     "metadata": {},
     "output_type": "execute_result"
    }
   ],
   "source": [
    "get_all_opeartion_combine([1, 2, 3, 4])"
   ]
  },
  {
   "cell_type": "code",
   "execution_count": 76,
   "metadata": {},
   "outputs": [
    {
     "data": {
      "text/plain": [
       "['1', '/', '2', '/', '3', '/', '4']"
      ]
     },
     "execution_count": 76,
     "metadata": {},
     "output_type": "execute_result"
    }
   ],
   "source": [
    "'1 / 2 / 3 / 4'.split()"
   ]
  },
  {
   "cell_type": "code",
   "execution_count": 77,
   "metadata": {},
   "outputs": [],
   "source": [
    "def add_brace_of_number(numbers):\n",
    "    if len(numbers) < 2: return [numbers]\n",
    "    if len(numbers) == 2: \n",
    "        return [['('+str(numbers[0])] + numbers[1:-1] + [str(numbers[-1])+')']]\n",
    "    \n",
    "    results = []\n",
    "    \n",
    "    for i in range(1, len(numbers)):\n",
    "        prefix = numbers[:i]\n",
    "       # assert len(prefix) < len(numbers)\n",
    "        prefixs = add_brace_of_number(prefix)\n",
    "        \n",
    "        tail = numbers[i:]\n",
    "       # assert len(tail) < len(numbers)\n",
    "        tails = add_brace_of_number(tail)\n",
    "        \n",
    "        for p in prefixs:\n",
    "            for t in tails:\n",
    "                brace_with_around = ['('+p[0]] + p[1:] + t[:-1] + [t[-1] + ')']\n",
    "                results.append(brace_with_around)\n",
    "    \n",
    "    return results"
   ]
  },
  {
   "cell_type": "code",
   "execution_count": 78,
   "metadata": {},
   "outputs": [
    {
     "data": {
      "text/plain": [
       "[['(1', '(3', '(4', '(5', '6))))'],\n",
       " ['(1', '(3', '((4', '5)', '6)))'],\n",
       " ['(1', '((3', '4)', '(5', '6)))'],\n",
       " ['(1', '((3', '(4', '5))', '6))'],\n",
       " ['(1', '(((3', '4)', '5)', '6))'],\n",
       " ['((1', '3)', '(4', '(5', '6)))'],\n",
       " ['((1', '3)', '((4', '5)', '6))'],\n",
       " ['((1', '(3', '4))', '(5', '6))'],\n",
       " ['(((1', '3)', '4)', '(5', '6))'],\n",
       " ['((1', '(3', '(4', '5)))', '6)'],\n",
       " ['((1', '((3', '4)', '5))', '6)'],\n",
       " ['(((1', '3)', '(4', '5))', '6)'],\n",
       " ['(((1', '(3', '4))', '5)', '6)'],\n",
       " ['((((1', '3)', '4)', '5)', '6)']]"
      ]
     },
     "execution_count": 78,
     "metadata": {},
     "output_type": "execute_result"
    }
   ],
   "source": [
    "add_brace_of_number('1 / 3 / 4 / 5 / 6'.split()[::2])"
   ]
  },
  {
   "cell_type": "code",
   "execution_count": 79,
   "metadata": {},
   "outputs": [
    {
     "data": {
      "text/plain": [
       "[['(4', '(8', '(9', '9)))'],\n",
       " ['(4', '((8', '9)', '9))'],\n",
       " ['((4', '8)', '(9', '9))'],\n",
       " ['((4', '(8', '9))', '9)'],\n",
       " ['(((4', '8)', '9)', '9)']]"
      ]
     },
     "execution_count": 79,
     "metadata": {},
     "output_type": "execute_result"
    }
   ],
   "source": [
    "add_brace_of_number('4 + 8 - 9 + 9'.split()[::2])"
   ]
  },
  {
   "cell_type": "markdown",
   "metadata": {},
   "source": [
    "## How to join the operators to numbers with brach"
   ]
  },
  {
   "cell_type": "code",
   "execution_count": 80,
   "metadata": {},
   "outputs": [],
   "source": [
    "def join_op_with_brace_number(operators, with_brace):\n",
    "    \n",
    "    finally_exp = with_brace[0]\n",
    "    \n",
    "    for i, op in enumerate(operators):\n",
    "        finally_exp = ' '.join([finally_exp, op, with_brace[i+1]])\n",
    "    \n",
    "    return finally_exp"
   ]
  },
  {
   "cell_type": "code",
   "execution_count": 81,
   "metadata": {},
   "outputs": [
    {
     "data": {
      "text/plain": [
       "'(1 / 3) / 4 / 5 / 6'"
      ]
     },
     "execution_count": 81,
     "metadata": {},
     "output_type": "execute_result"
    }
   ],
   "source": [
    "join_op_with_brace_number('1 / 3 / 4 / 5 / 6'.split()[1::2], ['(1', '3)', '4', '5', '6'])"
   ]
  },
  {
   "cell_type": "code",
   "execution_count": 82,
   "metadata": {},
   "outputs": [],
   "source": [
    "def join_brace_to_expression(expression):\n",
    "    numbers = expression.split()[::2]\n",
    "    operators = expression.split()[1::2]\n",
    "    \n",
    "    with_braces = add_brace_of_number(numbers)\n",
    "    \n",
    "    with_operatos_and_brace = []\n",
    "    \n",
    "    for brace in with_braces:\n",
    "        with_operatos_and_brace.append(join_op_with_brace_number(operators, brace))\n",
    "    \n",
    "    return with_operatos_and_brace"
   ]
  },
  {
   "cell_type": "code",
   "execution_count": 83,
   "metadata": {},
   "outputs": [
    {
     "data": {
      "text/plain": [
       "['(4 + (8 - (9 * 8)))',\n",
       " '(4 + ((8 - 9) * 8))',\n",
       " '((4 + 8) - (9 * 8))',\n",
       " '((4 + (8 - 9)) * 8)',\n",
       " '(((4 + 8) - 9) * 8)']"
      ]
     },
     "execution_count": 83,
     "metadata": {},
     "output_type": "execute_result"
    }
   ],
   "source": [
    "join_brace_to_expression('4 + 8 - 9 * 8')"
   ]
  },
  {
   "cell_type": "code",
   "execution_count": 84,
   "metadata": {},
   "outputs": [],
   "source": [
    "def get_all_opeartion_combine(cards):\n",
    "    c1, c2, c3, c4 = cards\n",
    "    operations = ['+', '-', '*', '/']\n",
    "    \n",
    "    expressions = []\n",
    "\n",
    "    for ops in product(operations, repeat=len(cards) - 1): # why not set 3 directly\n",
    "        op1, op2, op3 = ops\n",
    "        \n",
    "        expressions.append('{} {} {} {} {} {} {}'.format(c1, op1, c2, op2, c3, op3, c4))\n",
    "    \n",
    "    return expressions\n",
    "\n",
    "def get_all_opeartion_combine_with_number_exchange(cards):\n",
    "    all_result = []\n",
    "    \n",
    "    for cards_exchange in permutations(cards):\n",
    "        all_result += get_all_opeartion_combine(cards_exchange)\n",
    "    \n",
    "    return all_result"
   ]
  },
  {
   "cell_type": "code",
   "execution_count": 85,
   "metadata": {},
   "outputs": [
    {
     "data": {
      "text/plain": [
       "1536"
      ]
     },
     "execution_count": 85,
     "metadata": {},
     "output_type": "execute_result"
    }
   ],
   "source": [
    "len(get_all_opeartion_combine_with_number_exchange([1, 2, 3, 4]))"
   ]
  },
  {
   "cell_type": "code",
   "execution_count": 86,
   "metadata": {},
   "outputs": [
    {
     "name": "stdout",
     "output_type": "stream",
     "text": [
      "我抽到的牌是: [14, 14, 4, 4]\n"
     ]
    }
   ],
   "source": [
    "r_cards = get_new_cards()\n",
    "\n",
    "print('我抽到的牌是: {}'.format(r_cards))\n",
    "\n",
    "for exp in (get_all_opeartion_combine_with_number_exchange(r_cards)):\n",
    "    for brace in join_brace_to_expression(exp):\n",
    "        try:\n",
    "            if eval(brace) == 24: print(brace)\n",
    "        except ZeroDivisionError:\n",
    "            continue"
   ]
  },
  {
   "cell_type": "code",
   "execution_count": 87,
   "metadata": {},
   "outputs": [
    {
     "data": {
      "text/plain": [
       "True"
      ]
     },
     "execution_count": 87,
     "metadata": {},
     "output_type": "execute_result"
    }
   ],
   "source": [
    "'4 / 14 / 12 - 1' in get_all_opeartion_combine_with_number_exchange([4, 14, 12, 1])"
   ]
  },
  {
   "cell_type": "code",
   "execution_count": 88,
   "metadata": {},
   "outputs": [
    {
     "data": {
      "text/plain": [
       "23.99999999999999"
      ]
     },
     "execution_count": 88,
     "metadata": {},
     "output_type": "execute_result"
    }
   ],
   "source": [
    "4/((14/12)-1)"
   ]
  },
  {
   "cell_type": "code",
   "execution_count": 89,
   "metadata": {},
   "outputs": [
    {
     "data": {
      "text/plain": [
       "['(4 / (14 / (12 - 1)))',\n",
       " '(4 / ((14 / 12) - 1))',\n",
       " '((4 / 14) / (12 - 1))',\n",
       " '((4 / (14 / 12)) - 1)',\n",
       " '(((4 / 14) / 12) - 1)']"
      ]
     },
     "execution_count": 89,
     "metadata": {},
     "output_type": "execute_result"
    }
   ],
   "source": [
    "join_brace_to_expression('4 / 14 / 12 - 1')"
   ]
  },
  {
   "cell_type": "code",
   "execution_count": 90,
   "metadata": {},
   "outputs": [
    {
     "data": {
      "text/plain": [
       "23.99999999999999"
      ]
     },
     "execution_count": 90,
     "metadata": {},
     "output_type": "execute_result"
    }
   ],
   "source": [
    "eval('(4 / ((14 / 12) - 1))')"
   ]
  },
  {
   "cell_type": "code",
   "execution_count": 91,
   "metadata": {},
   "outputs": [],
   "source": [
    "def solve_24point(cards):\n",
    "    results = []\n",
    "    \n",
    "    for exp in (get_all_opeartion_combine_with_number_exchange(cards)):\n",
    "        for brace in join_brace_to_expression(exp):\n",
    "            try:\n",
    "                if eval(brace) == 24: results.append(brace)\n",
    "            except ZeroDivisionError:\n",
    "                continue  \n",
    "        \n",
    "    return results"
   ]
  },
  {
   "cell_type": "code",
   "execution_count": 92,
   "metadata": {},
   "outputs": [
    {
     "data": {
      "text/plain": [
       "['(9 + ((8 - 6) + 13))',\n",
       " '((9 + (8 - 6)) + 13)',\n",
       " '(((9 + 8) - 6) + 13)',\n",
       " '(9 + (8 - (6 - 13)))',\n",
       " '((9 + 8) - (6 - 13))',\n",
       " '(9 + (8 + (13 - 6)))',\n",
       " '(9 + ((8 + 13) - 6))',\n",
       " '((9 + 8) + (13 - 6))',\n",
       " '((9 + (8 + 13)) - 6)',\n",
       " '(((9 + 8) + 13) - 6)',\n",
       " '((9 + (8 - 13)) * 6)',\n",
       " '(((9 + 8) - 13) * 6)',\n",
       " '((9 - 6) + (8 + 13))',\n",
       " '(((9 - 6) + 8) + 13)',\n",
       " '(9 - (6 - (8 + 13)))',\n",
       " '((9 - (6 - 8)) + 13)',\n",
       " '(9 - ((6 - 8) - 13))',\n",
       " '((9 - 6) + (13 + 8))',\n",
       " '(((9 - 6) + 13) + 8)',\n",
       " '(9 - (6 - (13 + 8)))',\n",
       " '((9 - (6 - 13)) + 8)',\n",
       " '(9 - ((6 - 13) - 8))',\n",
       " '(9 + (13 + (8 - 6)))',\n",
       " '(9 + ((13 + 8) - 6))',\n",
       " '((9 + 13) + (8 - 6))',\n",
       " '((9 + (13 + 8)) - 6)',\n",
       " '(((9 + 13) + 8) - 6)',\n",
       " '(((9 - 13) + 8) * 6)',\n",
       " '((9 - (13 - 8)) * 6)',\n",
       " '(9 + ((13 - 6) + 8))',\n",
       " '((9 + (13 - 6)) + 8)',\n",
       " '(((9 + 13) - 6) + 8)',\n",
       " '(9 + (13 - (6 - 8)))',\n",
       " '((9 + 13) - (6 - 8))',\n",
       " '(8 + ((9 - 6) + 13))',\n",
       " '((8 + (9 - 6)) + 13)',\n",
       " '(((8 + 9) - 6) + 13)',\n",
       " '(8 + (9 - (6 - 13)))',\n",
       " '((8 + 9) - (6 - 13))',\n",
       " '(8 + (9 + (13 - 6)))',\n",
       " '(8 + ((9 + 13) - 6))',\n",
       " '((8 + 9) + (13 - 6))',\n",
       " '((8 + (9 + 13)) - 6)',\n",
       " '(((8 + 9) + 13) - 6)',\n",
       " '((8 + (9 - 13)) * 6)',\n",
       " '(((8 + 9) - 13) * 6)',\n",
       " '((8 - 6) + (9 + 13))',\n",
       " '(((8 - 6) + 9) + 13)',\n",
       " '(8 - (6 - (9 + 13)))',\n",
       " '((8 - (6 - 9)) + 13)',\n",
       " '(8 - ((6 - 9) - 13))',\n",
       " '((8 - 6) + (13 + 9))',\n",
       " '(((8 - 6) + 13) + 9)',\n",
       " '(8 - (6 - (13 + 9)))',\n",
       " '((8 - (6 - 13)) + 9)',\n",
       " '(8 - ((6 - 13) - 9))',\n",
       " '(8 + (13 + (9 - 6)))',\n",
       " '(8 + ((13 + 9) - 6))',\n",
       " '((8 + 13) + (9 - 6))',\n",
       " '((8 + (13 + 9)) - 6)',\n",
       " '(((8 + 13) + 9) - 6)',\n",
       " '(((8 - 13) + 9) * 6)',\n",
       " '((8 - (13 - 9)) * 6)',\n",
       " '(8 + ((13 - 6) + 9))',\n",
       " '((8 + (13 - 6)) + 9)',\n",
       " '(((8 + 13) - 6) + 9)',\n",
       " '(8 + (13 - (6 - 9)))',\n",
       " '((8 + 13) - (6 - 9))',\n",
       " '(6 * (9 + (8 - 13)))',\n",
       " '(6 * ((9 + 8) - 13))',\n",
       " '(6 * ((9 - 13) + 8))',\n",
       " '(6 * (9 - (13 - 8)))',\n",
       " '(6 * (8 + (9 - 13)))',\n",
       " '(6 * ((8 + 9) - 13))',\n",
       " '(6 * ((8 - 13) + 9))',\n",
       " '(6 * (8 - (13 - 9)))',\n",
       " '(13 + (9 + (8 - 6)))',\n",
       " '(13 + ((9 + 8) - 6))',\n",
       " '((13 + 9) + (8 - 6))',\n",
       " '((13 + (9 + 8)) - 6)',\n",
       " '(((13 + 9) + 8) - 6)',\n",
       " '(13 + ((9 - 6) + 8))',\n",
       " '((13 + (9 - 6)) + 8)',\n",
       " '(((13 + 9) - 6) + 8)',\n",
       " '(13 + (9 - (6 - 8)))',\n",
       " '((13 + 9) - (6 - 8))',\n",
       " '(13 + (8 + (9 - 6)))',\n",
       " '(13 + ((8 + 9) - 6))',\n",
       " '((13 + 8) + (9 - 6))',\n",
       " '((13 + (8 + 9)) - 6)',\n",
       " '(((13 + 8) + 9) - 6)',\n",
       " '(13 + ((8 - 6) + 9))',\n",
       " '((13 + (8 - 6)) + 9)',\n",
       " '(((13 + 8) - 6) + 9)',\n",
       " '(13 + (8 - (6 - 9)))',\n",
       " '((13 + 8) - (6 - 9))',\n",
       " '((13 - 6) + (9 + 8))',\n",
       " '(((13 - 6) + 9) + 8)',\n",
       " '(13 - (6 - (9 + 8)))',\n",
       " '((13 - (6 - 9)) + 8)',\n",
       " '(13 - ((6 - 9) - 8))',\n",
       " '((13 - 6) + (8 + 9))',\n",
       " '(((13 - 6) + 8) + 9)',\n",
       " '(13 - (6 - (8 + 9)))',\n",
       " '((13 - (6 - 8)) + 9)',\n",
       " '(13 - ((6 - 8) - 9))']"
      ]
     },
     "execution_count": 92,
     "metadata": {},
     "output_type": "execute_result"
    }
   ],
   "source": [
    "solve_24point([9, 8, 6, 13])"
   ]
  },
  {
   "cell_type": "markdown",
   "metadata": {},
   "source": [
    "## Assignment 将本课程的程序变成真实世界的场景"
   ]
  },
  {
   "cell_type": "code",
   "execution_count": 93,
   "metadata": {},
   "outputs": [],
   "source": [
    "def random_real_card():\n",
    "    cards = '2 3 4 5 6 7 8 9 10 J Q K A'.split()\n",
    "    color = '红桃 黑桃 方片 梅花'.split()\n",
    "    \n",
    "    return random.choice(color)+random.choice(cards)"
   ]
  },
  {
   "cell_type": "code",
   "execution_count": 94,
   "metadata": {},
   "outputs": [
    {
     "data": {
      "text/plain": [
       "'黑桃3'"
      ]
     },
     "execution_count": 94,
     "metadata": {},
     "output_type": "execute_result"
    }
   ],
   "source": [
    "random_real_card()"
   ]
  },
  {
   "cell_type": "code",
   "execution_count": 95,
   "metadata": {
    "pycharm": {
     "name": "#%%\n"
    }
   },
   "outputs": [],
   "source": [
    "import re\n",
    "\"\"\"\n",
    "    写出24点的真实世界代码，注意A就可以做 1 也可以 做14 \n",
    "    这个问题怎么解决？ \n",
    "\"\"\"\n",
    "def solve_24_point_real_word(real_cards):\n",
    "    card_to_number = {'A':1, '2':2, '3':3, '4':4, '5':5, '6':6, '7':7, '8':8, '9':9, '10':10,'J':11, 'Q':12, 'K':13}\n",
    "\n",
    "    number_cards = [card_to_number[_card[2:]] for _card in real_cards]\n",
    "    number_to_name = [(number_cards[i], real_cards[i]) for i in range(len(real_cards))]\n",
    "    number_to_name += [(14, real_cards[i]) for i in range(len(real_cards)) if real_cards[i][2:] == 'A']\n",
    "\n",
    "#     print(number_to_name)\n",
    "    non_a_cards = [_card for _card in number_cards if _card != 1]\n",
    "    if len(non_a_cards) < 4:\n",
    "        a_cards_combination = product([1, 14], repeat = len(real_cards) - len(non_a_cards))\n",
    "        all_cards = [non_a_cards + list(_a_card) for _a_card in a_cards_combination]\n",
    "    else:\n",
    "        all_cards = [number_cards]\n",
    "\n",
    "    print('Draw:', real_cards)\n",
    "    results = []\n",
    "    for cards in all_cards:\n",
    "#         print(cards)\n",
    "        solutions = solve_24point(cards)\n",
    "        for s in solutions:            \n",
    "            for card in number_to_name:\n",
    "                r = '([\\+\\-*\\/\\( ]+)(' + str(card[0]) + ')([\\+\\-*\\/\\) ]+)'\n",
    "                s = re.sub(r, '\\\\1' + card[1] + '\\\\3', s, 1)\n",
    "            results.append(s)\n",
    "    \n",
    "    return results"
   ]
  },
  {
   "cell_type": "code",
   "execution_count": 96,
   "metadata": {},
   "outputs": [
    {
     "name": "stdout",
     "output_type": "stream",
     "text": [
      "Draw: ['梅花8', '黑桃6', '黑桃A', '梅花A']\n"
     ]
    },
    {
     "data": {
      "text/plain": [
       "['(梅花8 * (黑桃6 / (黑桃A + 梅花A)))',\n",
       " '((梅花8 * 黑桃6) / (黑桃A + 梅花A))',\n",
       " '(梅花8 * (黑桃6 / (黑桃A + 梅花A)))',\n",
       " '((梅花8 * 黑桃6) / (黑桃A + 梅花A))',\n",
       " '((梅花8 / (黑桃A + 梅花A)) * 黑桃6)',\n",
       " '(梅花8 / ((黑桃A + 梅花A) / 黑桃6))',\n",
       " '((梅花8 / (黑桃A + 梅花A)) * 黑桃6)',\n",
       " '(梅花8 / ((黑桃A + 梅花A) / 黑桃6))',\n",
       " '(黑桃6 * (梅花8 / (黑桃A + 梅花A)))',\n",
       " '((黑桃6 * 梅花8) / (黑桃A + 梅花A))',\n",
       " '(黑桃6 * (梅花8 / (黑桃A + 梅花A)))',\n",
       " '((黑桃6 * 梅花8) / (黑桃A + 梅花A))',\n",
       " '((黑桃6 / (黑桃A + 梅花A)) * 梅花8)',\n",
       " '(黑桃6 / ((黑桃A + 梅花A) / 梅花8))',\n",
       " '((黑桃6 / (黑桃A + 梅花A)) * 梅花8)',\n",
       " '(黑桃6 / ((黑桃A + 梅花A) / 梅花8))']"
      ]
     },
     "execution_count": 96,
     "metadata": {},
     "output_type": "execute_result"
    }
   ],
   "source": [
    "solve_24_point_real_word(['梅花8', '黑桃6', '黑桃A', '梅花A'])"
   ]
  },
  {
   "cell_type": "code",
   "execution_count": 97,
   "metadata": {},
   "outputs": [
    {
     "name": "stdout",
     "output_type": "stream",
     "text": [
      "Draw: ['黑桃2', '方片6', '红桃5', '黑桃6']\n"
     ]
    },
    {
     "data": {
      "text/plain": [
       "['(((黑桃2 * 红桃5) - 方片6) * 黑桃6)',\n",
       " '(((黑桃2 * 红桃5) - 方片6) * 黑桃6)',\n",
       " '(方片6 - ((黑桃2 - 红桃5) * 黑桃6))',\n",
       " '(方片6 * ((黑桃2 * 红桃5) - 黑桃6))',\n",
       " '(方片6 + ((红桃5 - 黑桃2) * 黑桃6))',\n",
       " '((方片6 * (红桃5 - 黑桃2)) + 黑桃6)',\n",
       " '(方片6 * ((红桃5 * 黑桃2) - 黑桃6))',\n",
       " '(方片6 - (黑桃6 * (黑桃2 - 红桃5)))',\n",
       " '(方片6 + (黑桃6 * (红桃5 - 黑桃2)))',\n",
       " '(((红桃5 - 黑桃2) * 方片6) + 黑桃6)',\n",
       " '(((红桃5 * 黑桃2) - 方片6) * 黑桃6)',\n",
       " '(((红桃5 - 黑桃2) * 方片6) + 黑桃6)',\n",
       " '(((红桃5 * 黑桃2) - 方片6) * 黑桃6)',\n",
       " '(方片6 - ((黑桃2 - 红桃5) * 黑桃6))',\n",
       " '(方片6 * ((黑桃2 * 红桃5) - 黑桃6))',\n",
       " '(方片6 - (黑桃6 * (黑桃2 - 红桃5)))',\n",
       " '(方片6 + (黑桃6 * (红桃5 - 黑桃2)))',\n",
       " '(方片6 + ((红桃5 - 黑桃2) * 黑桃6))',\n",
       " '((方片6 * (红桃5 - 黑桃2)) + 黑桃6)',\n",
       " '(方片6 * ((红桃5 * 黑桃2) - 黑桃6))']"
      ]
     },
     "execution_count": 97,
     "metadata": {},
     "output_type": "execute_result"
    }
   ],
   "source": [
    "solve_24_point_real_word(['黑桃2', '方片6', '红桃5', '黑桃6'])"
   ]
  },
  {
   "cell_type": "code",
   "execution_count": 98,
   "metadata": {},
   "outputs": [
    {
     "name": "stdout",
     "output_type": "stream",
     "text": [
      "Draw: ['红桃8', '红桃4', '红桃7', '黑桃8']\n"
     ]
    },
    {
     "data": {
      "text/plain": [
       "['(红桃8 * (红桃4 + (红桃7 - 黑桃8)))',\n",
       " '(红桃8 * ((红桃4 + 红桃7) - 黑桃8))',\n",
       " '(红桃8 * ((红桃4 - 黑桃8) + 红桃7))',\n",
       " '(红桃8 * (红桃4 - (黑桃8 - 红桃7)))',\n",
       " '(红桃8 * (红桃7 + (红桃4 - 黑桃8)))',\n",
       " '(红桃8 * ((红桃7 + 红桃4) - 黑桃8))',\n",
       " '((红桃8 * 红桃7) - (红桃4 * 黑桃8))',\n",
       " '(红桃8 * ((红桃7 - 黑桃8) + 红桃4))',\n",
       " '(红桃8 * (红桃7 - (黑桃8 - 红桃4)))',\n",
       " '((红桃8 * 红桃7) - (黑桃8 * 红桃4))',\n",
       " '(((红桃4 - 红桃8) + 红桃7) * 黑桃8)',\n",
       " '((红桃4 - (红桃8 - 红桃7)) * 黑桃8)',\n",
       " '((红桃4 + (红桃7 - 红桃8)) * 黑桃8)',\n",
       " '(((红桃4 + 红桃7) - 红桃8) * 黑桃8)',\n",
       " '(红桃4 * (红桃7 - (红桃8 / 黑桃8)))',\n",
       " '((红桃4 + (红桃7 - 红桃8)) * 黑桃8)',\n",
       " '(((红桃4 + 红桃7) - 红桃8) * 黑桃8)',\n",
       " '(红桃4 * (红桃7 - (红桃8 / 黑桃8)))',\n",
       " '(((红桃4 - 红桃8) + 红桃7) * 黑桃8)',\n",
       " '((红桃4 - (红桃8 - 红桃7)) * 黑桃8)',\n",
       " '(((红桃7 - 红桃8) + 红桃4) * 黑桃8)',\n",
       " '((红桃7 - (红桃8 - 红桃4)) * 黑桃8)',\n",
       " '((红桃7 * 红桃8) - (红桃4 * 黑桃8))',\n",
       " '((红桃7 - (红桃8 / 黑桃8)) * 红桃4)',\n",
       " '((红桃7 * 红桃8) - (黑桃8 * 红桃4))',\n",
       " '((红桃7 + (红桃4 - 红桃8)) * 黑桃8)',\n",
       " '(((红桃7 + 红桃4) - 红桃8) * 黑桃8)',\n",
       " '((红桃7 + (红桃4 - 红桃8)) * 黑桃8)',\n",
       " '(((红桃7 + 红桃4) - 红桃8) * 黑桃8)',\n",
       " '((红桃7 - (红桃8 / 黑桃8)) * 红桃4)',\n",
       " '((红桃7 * 红桃8) - (黑桃8 * 红桃4))',\n",
       " '(((红桃7 - 红桃8) + 红桃4) * 黑桃8)',\n",
       " '((红桃7 - (红桃8 - 红桃4)) * 黑桃8)',\n",
       " '((红桃7 * 红桃8) - (红桃4 * 黑桃8))',\n",
       " '(红桃8 * ((红桃4 - 黑桃8) + 红桃7))',\n",
       " '(红桃8 * (红桃4 - (黑桃8 - 红桃7)))',\n",
       " '(红桃8 * (红桃4 + (红桃7 - 黑桃8)))',\n",
       " '(红桃8 * ((红桃4 + 红桃7) - 黑桃8))',\n",
       " '(红桃8 * ((红桃7 - 黑桃8) + 红桃4))',\n",
       " '(红桃8 * (红桃7 - (黑桃8 - 红桃4)))',\n",
       " '((红桃8 * 红桃7) - (黑桃8 * 红桃4))',\n",
       " '(红桃8 * (红桃7 + (红桃4 - 黑桃8)))',\n",
       " '(红桃8 * ((红桃7 + 红桃4) - 黑桃8))',\n",
       " '((红桃8 * 红桃7) - (红桃4 * 黑桃8))']"
      ]
     },
     "execution_count": 98,
     "metadata": {},
     "output_type": "execute_result"
    }
   ],
   "source": [
    "solve_24_point_real_word([random_real_card() for _ in range(4)])"
   ]
  },
  {
   "cell_type": "code",
   "execution_count": null,
   "metadata": {},
   "outputs": [],
   "source": []
  }
 ],
 "metadata": {
  "kernelspec": {
   "display_name": "PyCharm (untitled)",
   "language": "python",
   "name": "pycharm-10c7e15b"
  },
  "language_info": {
   "codemirror_mode": {
    "name": "ipython",
    "version": 3
   },
   "file_extension": ".py",
   "mimetype": "text/x-python",
   "name": "python",
   "nbconvert_exporter": "python",
   "pygments_lexer": "ipython3",
   "version": "3.8.3"
  }
 },
 "nbformat": 4,
 "nbformat_minor": 4
}
